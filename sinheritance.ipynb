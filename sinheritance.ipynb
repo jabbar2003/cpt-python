{
 "cells": [
  {
   "cell_type": "code",
   "execution_count": 3,
   "id": "1c8e957b-e46e-4d21-a52d-202b2d955389",
   "metadata": {},
   "outputs": [
    {
     "name": "stdout",
     "output_type": "stream",
     "text": [
      "engine started...\n",
      "the car is being drive\n"
     ]
    }
   ],
   "source": [
    "'''single\n",
    "multiple\n",
    "multi-level\n",
    "hierarical\n",
    "hybrid\n",
    "meta-inheritance'''\n",
    "'''hierarical representation\n",
    "#single inheritance 1.parent(super class)\n",
    "                      --child(class)'''\n",
    "class vehicle:\n",
    "    def start_engine(self):\n",
    "        print(\"engine started...\")\n",
    "class car(vehicle):\n",
    "    def drive(self):\n",
    "        print(\"the car is being drive\")\n",
    "c=car()\n",
    "c.start_engine() #inherited method\n",
    "c.drive() # subclass own method"
   ]
  },
  {
   "cell_type": "code",
   "execution_count": 5,
   "id": "934d42d4-061d-45a6-9f33-61e65e4ead14",
   "metadata": {},
   "outputs": [
    {
     "name": "stdout",
     "output_type": "stream",
     "text": [
      "I am a student\n",
      "The student is studying!!!!\n"
     ]
    }
   ],
   "source": [
    "class person:\n",
    "    def info(self):\n",
    "        print(\"I am a student\")\n",
    "class student(person):\n",
    "    def study(self):\n",
    "        print(\"The student is studying!!!!\")\n",
    "s=student()\n",
    "s.info()\n",
    "s.study()"
   ]
  },
  {
   "cell_type": "code",
   "execution_count": 7,
   "id": "0fcf5f53-c2c7-47fa-882a-420fc629a16b",
   "metadata": {},
   "outputs": [
    {
     "name": "stdin",
     "output_type": "stream",
     "text": [
      "enter the value of num1: 13\n",
      "enter the value of num2: 13\n"
     ]
    },
    {
     "name": "stdout",
     "output_type": "stream",
     "text": [
      "The result is 26\n"
     ]
    }
   ],
   "source": [
    "'''code to perform addition operation using superclass and\n",
    "user input and sub class as operation\n",
    "print the summated value at subclass'''\n",
    "class operate:\n",
    "    def userdata(self):\n",
    "        self.num1=int(input(\"enter the value of num1:\"))\n",
    "        self.num2=int(input(\"enter the value of num2:\"))\n",
    "        \n",
    "class summate(operate):\n",
    "    def add(self):\n",
    "        result=self.num1+self.num2\n",
    "        print(f\"The result is {result}\")\n",
    "c=summate()\n",
    "c.userdata()\n",
    "c.add()"
   ]
  },
  {
   "cell_type": "code",
   "execution_count": 28,
   "id": "3e0a79e5-db04-4b7e-8028-510ba9daa558",
   "metadata": {},
   "outputs": [
    {
     "name": "stdin",
     "output_type": "stream",
     "text": [
      " 2\n",
      " 2\n"
     ]
    },
    {
     "name": "stdout",
     "output_type": "stream",
     "text": [
      "1\n"
     ]
    }
   ],
   "source": [
    "'''code to calculate normal division by considering input\n",
    "in superclass and evaltion in sub class, where zero division error\n",
    "must be handled'''\n",
    "class user:\n",
    "    def in_put(s):\n",
    "        s.a=int(input())\n",
    "        s.b=int(input())\n",
    "class div(user):\n",
    "    def div_user(s):\n",
    "        try:\n",
    "            p=s.a/s.b\n",
    "            print(int(p))\n",
    "        except ZeroDivisionError:\n",
    "            print(\"denominator should be non zero\")\n",
    "            \n",
    "c=div()\n",
    "c.in_put()\n",
    "c.div_user()"
   ]
  },
  {
   "cell_type": "code",
   "execution_count": 34,
   "id": "b6604cc0-9e2d-4fc2-a3b0-b49e885f62d1",
   "metadata": {},
   "outputs": [
    {
     "name": "stdin",
     "output_type": "stream",
     "text": [
      " 09679096\n",
      " -1\n"
     ]
    },
    {
     "name": "stdout",
     "output_type": "stream",
     "text": [
      "-9679096\n"
     ]
    }
   ],
   "source": [
    "'''code to calculate normal division by considering input\n",
    "in superclass and evaltion in sub class, where zero division error\n",
    "must be handled'''\n",
    "class user:\n",
    "    def in_put(s):\n",
    "        s.a=int(input())\n",
    "        s.b=int(input())\n",
    "class div(user):\n",
    "    def div_user(s):\n",
    "        try:\n",
    "            p=s.a/s.b\n",
    "            print(int(p))\n",
    "        except ZeroDivisionError:\n",
    "            print(\"denominator should be non zero\")\n",
    "            \n",
    "c=div()\n",
    "c.in_put()\n",
    "c.div_user()"
   ]
  },
  {
   "cell_type": "code",
   "execution_count": null,
   "id": "df56f44b-8017-4ebc-88c2-4b199445aad6",
   "metadata": {},
   "outputs": [],
   "source": [
    "class intern: #super\n",
    "    def __init__(s,name):\n",
    "        s.name=name\n",
    "    def display_intern(s):\n",
    "        print(f\"Name:{self.name}\")\n",
    "        \n",
    "\n"
   ]
  },
  {
   "cell_type": "code",
   "execution_count": 38,
   "id": "134f26da-c30b-442e-b9ca-5e53e1bef30d",
   "metadata": {},
   "outputs": [
    {
     "name": "stdin",
     "output_type": "stream",
     "text": [
      "Enter the 1 no: 2\n",
      "ENTER THE 2 NO: 3\n"
     ]
    },
    {
     "name": "stdout",
     "output_type": "stream",
     "text": [
      "5\n"
     ]
    }
   ],
   "source": [
    "#function keyword arguments\n",
    "def add(a,b):\n",
    "    return a+b\n",
    "x=int(input(\"Enter the 1 no:\"))\n",
    "y=int(input(\"ENTER THE 2 NO:\"))\n",
    "print(add(x,y))"
   ]
  },
  {
   "cell_type": "code",
   "execution_count": 42,
   "id": "f4545544-f8e3-40e8-b4d3-9352505995fa",
   "metadata": {},
   "outputs": [
    {
     "name": "stdin",
     "output_type": "stream",
     "text": [
      " 2\n",
      " 2\n"
     ]
    },
    {
     "name": "stdout",
     "output_type": "stream",
     "text": [
      "4\n"
     ]
    }
   ],
   "source": [
    "def mul(a,b):\n",
    "    return a*b\n",
    "c=int(input())\n",
    "d=int(input())\n",
    "print(mul(c,d))"
   ]
  },
  {
   "cell_type": "code",
   "execution_count": null,
   "id": "f3a7c7ef-5ee8-495f-a64e-a734146ec331",
   "metadata": {},
   "outputs": [],
   "source": [
    "#nested functions\n",
    "def mul(a,b):\n",
    "    return a*b\n",
    "c=int(input())\n",
    "d=int(input())\n",
    "print(mul(c,d))"
   ]
  },
  {
   "cell_type": "code",
   "execution_count": 60,
   "id": "c6379b7c-bb27-47e6-883d-d94014d8b393",
   "metadata": {},
   "outputs": [
    {
     "ename": "NameError",
     "evalue": "name 'Input' is not defined",
     "output_type": "error",
     "traceback": [
      "\u001b[1;31m---------------------------------------------------------------------------\u001b[0m",
      "\u001b[1;31mNameError\u001b[0m                                 Traceback (most recent call last)",
      "Cell \u001b[1;32mIn[60], line 5\u001b[0m\n\u001b[0;32m      3\u001b[0m         s\u001b[38;5;241m.\u001b[39mnum1\u001b[38;5;241m=\u001b[39m\u001b[38;5;28mfloat\u001b[39m(\u001b[38;5;28minput\u001b[39m(\u001b[38;5;124m\"\u001b[39m\u001b[38;5;124menter num1:\u001b[39m\u001b[38;5;124m\"\u001b[39m))\n\u001b[0;32m      4\u001b[0m         s\u001b[38;5;241m.\u001b[39mnum2\u001b[38;5;241m=\u001b[39m\u001b[38;5;28mfloat\u001b[39m(\u001b[38;5;28minput\u001b[39m(\u001b[38;5;124m\"\u001b[39m\u001b[38;5;124menter num2:\u001b[39m\u001b[38;5;124m\"\u001b[39m))\n\u001b[1;32m----> 5\u001b[0m \u001b[38;5;28;01mclass\u001b[39;00m \u001b[38;5;21;01moperate\u001b[39;00m(Input):\n\u001b[0;32m      6\u001b[0m     \u001b[38;5;28;01mdef\u001b[39;00m \u001b[38;5;21m__init__\u001b[39m(s):\n\u001b[0;32m      7\u001b[0m         \u001b[38;5;28msuper\u001b[39m()\u001b[38;5;241m.\u001b[39m\u001b[38;5;21m__init__\u001b[39m()\n",
      "\u001b[1;31mNameError\u001b[0m: name 'Input' is not defined"
     ]
    }
   ],
   "source": [
    "class input:\n",
    "    def __init(s):\n",
    "        s.num1=float(input(\"enter num1:\"))\n",
    "        s.num2=float(input(\"enter num2:\"))\n",
    "class operate(Input):\n",
    "    def __init__(s):\n",
    "        super().__init__()\n",
    "    def add(s):\n",
    "        return s.num1+s.num2\n",
    "    def mul(s):\n",
    "        return s.num1*self.num2\n",
    "class result(operate):\n",
    "    def __init__(s):\n",
    "        super().__init__()\n",
    "    def display(s):\n",
    "        print(f\"Sum:{s.add()}\")\n",
    "        print(f\"Muliply:{s.mul()}\")\n",
    "r=result()\n",
    "r.display()"
   ]
  },
  {
   "cell_type": "code",
   "execution_count": null,
   "id": "b792d841-50d7-40d2-a4c2-26ef15bbddc4",
   "metadata": {},
   "outputs": [],
   "source": []
  }
 ],
 "metadata": {
  "kernelspec": {
   "display_name": "Python 3 (ipykernel)",
   "language": "python",
   "name": "python3"
  },
  "language_info": {
   "codemirror_mode": {
    "name": "ipython",
    "version": 3
   },
   "file_extension": ".py",
   "mimetype": "text/x-python",
   "name": "python",
   "nbconvert_exporter": "python",
   "pygments_lexer": "ipython3",
   "version": "3.12.7"
  }
 },
 "nbformat": 4,
 "nbformat_minor": 5
}

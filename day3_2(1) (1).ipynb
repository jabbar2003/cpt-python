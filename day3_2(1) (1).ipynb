{
 "cells": [
  {
   "cell_type": "code",
   "execution_count": 11,
   "id": "c682a8bb-54bb-4c9b-b0e0-b8bbd920afc7",
   "metadata": {},
   "outputs": [
    {
     "name": "stdout",
     "output_type": "stream",
     "text": [
      "UNION: {1, 2, 3, 4, 5}\n",
      "Intersection: {3}\n",
      "differenve: {1, 2}\n",
      "Symmentric difference: {1, 2, 4, 5}\n"
     ]
    }
   ],
   "source": [
    "#union means with out repeating the commom element printing all the elements \n",
    "a={1,2,3}\n",
    "b={3,4,5}\n",
    "print(\"UNION:\",a.union(b))\n",
    "print(\"Intersection:\",a.intersection(b))\n",
    "print(\"differenve:\",a.difference(b))\n",
    "print(\"Symmentric difference:\",a.symmetric_difference(b))"
   ]
  },
  {
   "cell_type": "code",
   "execution_count": 5,
   "id": "77650f34-cad1-40e3-960b-eb5eddf07d97",
   "metadata": {},
   "outputs": [
    {
     "name": "stdout",
     "output_type": "stream",
     "text": [
      "a is subset to b: True\n",
      "b is subset to a: False\n",
      "a is superset to b: False\n",
      "b is superset to a: True\n"
     ]
    }
   ],
   "source": [
    "#subset check\n",
    "a={1,2}\n",
    "b={1,2,3,4,5}\n",
    "print(\"a is subset to b:\",a.issubset(b))\n",
    "print(\"b is subset to a:\",b.issubset(a))\n",
    "print(\"a is superset to b:\",a.issuperset(b))\n",
    "print(\"b is superset to a:\",b.issuperset(a))"
   ]
  },
  {
   "cell_type": "code",
   "execution_count": 7,
   "id": "a587b039-aeb6-41ba-952a-bb25461c562f",
   "metadata": {},
   "outputs": [
    {
     "name": "stdout",
     "output_type": "stream",
     "text": [
      "Subset or not: True\n",
      "proper subset or not: True\n",
      "superset or not: False\n",
      "proper superset or not: True\n"
     ]
    }
   ],
   "source": [
    "a={1,2}\n",
    "b={1,2,3,4,5}\n",
    "print(\"Subset or not:\",a<=b)\n",
    "print(\"proper subset or not:\",a<b)\n",
    "print(\"superset or not:\",a>=b)\n",
    "print(\"proper superset or not:\",b>a)\n"
   ]
  },
  {
   "cell_type": "code",
   "execution_count": 9,
   "id": "030e7f82-317e-4de9-bdb9-600348aa7fff",
   "metadata": {},
   "outputs": [
    {
     "name": "stdout",
     "output_type": "stream",
     "text": [
      "{1, 2, 5}\n"
     ]
    }
   ],
   "source": [
    "#set with lists\n",
    "nums=[1,2,2,5]\n",
    "single=set(nums)\n",
    "print(single)"
   ]
  },
  {
   "cell_type": "code",
   "execution_count": 13,
   "id": "ed565111-4719-4016-9b09-2b7badd2c286",
   "metadata": {},
   "outputs": [
    {
     "name": "stdout",
     "output_type": "stream",
     "text": [
      "X is subset of y\n"
     ]
    }
   ],
   "source": [
    "x=set([1,2])\n",
    "y=set([1,2,3])\n",
    "if x.issubset(y):\n",
    "    print(\"X is subset of y\") \n"
   ]
  },
  {
   "cell_type": "code",
   "execution_count": 17,
   "id": "f4cc2a34-0dd5-49d1-8c90-9ba936ba30b4",
   "metadata": {},
   "outputs": [
    {
     "name": "stdout",
     "output_type": "stream",
     "text": [
      "Key for value: '(s)':Num\n"
     ]
    }
   ],
   "source": [
    "info={'name':'India','Num':123}\n",
    "s=123\n",
    "for key,value in info.items():\n",
    "    if value==s:\n",
    "        print(f\"Key for value: '(s)':{key}\")"
   ]
  },
  {
   "cell_type": "code",
   "execution_count": 19,
   "id": "97642ddc-a7f3-484c-8b2d-9de917601975",
   "metadata": {},
   "outputs": [
    {
     "name": "stdout",
     "output_type": "stream",
     "text": [
      "11\n"
     ]
    }
   ],
   "source": [
    "#type conversions\n",
    "print(int(11.1233))"
   ]
  },
  {
   "cell_type": "code",
   "execution_count": 21,
   "id": "7441731e-3a29-4238-adef-980483685eb0",
   "metadata": {},
   "outputs": [
    {
     "ename": "NameError",
     "evalue": "name 'long' is not defined",
     "output_type": "error",
     "traceback": [
      "\u001b[1;31m---------------------------------------------------------------------------\u001b[0m",
      "\u001b[1;31mNameError\u001b[0m                                 Traceback (most recent call last)",
      "Cell \u001b[1;32mIn[21], line 1\u001b[0m\n\u001b[1;32m----> 1\u001b[0m long(x)\n\u001b[0;32m      2\u001b[0m \u001b[38;5;28mfloat\u001b[39m(x)\n\u001b[0;32m      3\u001b[0m \u001b[38;5;28mset\u001b[39m(x)\n",
      "\u001b[1;31mNameError\u001b[0m: name 'long' is not defined"
     ]
    }
   ],
   "source": [
    "long(x)\n",
    "float(x)\n",
    "set(x)\n",
    "tuple(x)\n",
    "list(x)\n",
    "ord(x)\n",
    "chr(x)\n",
    "hex(x)\n",
    "oct(x)\n",
    "bin(x)\n",
    "dict(x)\n",
    "\n"
   ]
  },
  {
   "cell_type": "code",
   "execution_count": 25,
   "id": "cd5a9551-d6ce-4fa4-b922-af7921af4b0a",
   "metadata": {},
   "outputs": [
    {
     "name": "stdout",
     "output_type": "stream",
     "text": [
      "30\n"
     ]
    }
   ],
   "source": [
    "a=10\n",
    "b=20\n",
    "c=a+b\n",
    "print(c)"
   ]
  },
  {
   "cell_type": "code",
   "execution_count": 33,
   "id": "2663ffb6-1bfa-4497-a90b-d7c8d3774d96",
   "metadata": {},
   "outputs": [
    {
     "data": {
      "text/plain": [
       "1"
      ]
     },
     "execution_count": 33,
     "metadata": {},
     "output_type": "execute_result"
    }
   ],
   "source": [
    "5>>+2"
   ]
  },
  {
   "cell_type": "code",
   "execution_count": null,
   "id": "bf90f5cd-96fa-463a-a308-521b2c0a4a4b",
   "metadata": {},
   "outputs": [],
   "source": [
    "   "
   ]
  }
 ],
 "metadata": {
  "kernelspec": {
   "display_name": "Python 3 (ipykernel)",
   "language": "python",
   "name": "python3"
  },
  "language_info": {
   "codemirror_mode": {
    "name": "ipython",
    "version": 3
   },
   "file_extension": ".py",
   "mimetype": "text/x-python",
   "name": "python",
   "nbconvert_exporter": "python",
   "pygments_lexer": "ipython3",
   "version": "3.12.7"
  }
 },
 "nbformat": 4,
 "nbformat_minor": 5
}

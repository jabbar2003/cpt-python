{
 "cells": [
  {
   "cell_type": "code",
   "execution_count": 4,
   "id": "7b36ca89-1300-4183-8ae6-74a76d588655",
   "metadata": {},
   "outputs": [
    {
     "name": "stdout",
     "output_type": "stream",
     "text": [
      "100000\n"
     ]
    }
   ],
   "source": [
    "#nested dict\n",
    "person={\n",
    "    \"vijay\":{\"Salary\":10000,\"Empid\":24},\n",
    "    \"Steve\":{\"Salary\":100000,\"Empid\":14}}\n",
    "print(person[\"Steve\"][\"Salary\"])\n",
    "    "
   ]
  },
  {
   "cell_type": "code",
   "execution_count": 18,
   "id": "cd40794c-1dee-4e16-b42e-43ab01577629",
   "metadata": {},
   "outputs": [
    {
     "name": "stdout",
     "output_type": "stream",
     "text": [
      "Vijayawada\n"
     ]
    }
   ],
   "source": [
    "#dictionary with tuples as key\n",
    "loc={(40.1222,-75.001):\"NewYork\",\n",
    "     (34.1223,-111.345):\"Vijayawada\"}\n",
    "print(loc[(34.1223,-111.345)])"
   ]
  },
  {
   "cell_type": "code",
   "execution_count": 24,
   "id": "f8542ee2-5d6f-4af2-9c29-d5d00471c37a",
   "metadata": {},
   "outputs": [
    {
     "name": "stdout",
     "output_type": "stream",
     "text": [
      "{1, 2, 3, 4, 5}\n",
      "Add and remove elements\n",
      "{1, 2, 3, 4, 5, 6}\n",
      "{1, 3, 4, 5, 6}\n",
      "Using membership operators\n",
      "True\n",
      "True\n"
     ]
    }
   ],
   "source": [
    "#set implementations\n",
    "set1={1,2,3,4,5}\n",
    "print(set1)\n",
    "print(\"Add and remove elements\")\n",
    "set1.add(6)\n",
    "print(set1)\n",
    "set1.remove(2)\n",
    "print(set1)\n",
    "print(\"Using membership operators\")\n",
    "print(3 in set1)\n",
    "print(10 not in set1)\n"
   ]
  },
  {
   "cell_type": "code",
   "execution_count": null,
   "id": "50138540-cbe5-4b40-a92f-1df8126c7fc2",
   "metadata": {},
   "outputs": [],
   "source": []
  }
 ],
 "metadata": {
  "kernelspec": {
   "display_name": "Python 3 (ipykernel)",
   "language": "python",
   "name": "python3"
  },
  "language_info": {
   "codemirror_mode": {
    "name": "ipython",
    "version": 3
   },
   "file_extension": ".py",
   "mimetype": "text/x-python",
   "name": "python",
   "nbconvert_exporter": "python",
   "pygments_lexer": "ipython3",
   "version": "3.12.7"
  }
 },
 "nbformat": 4,
 "nbformat_minor": 5
}

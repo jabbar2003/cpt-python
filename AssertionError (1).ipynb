{
 "cells": [
  {
   "cell_type": "code",
   "execution_count": 3,
   "id": "6437098b-2c99-454f-b853-c4964dd4c63c",
   "metadata": {},
   "outputs": [
    {
     "name": "stdout",
     "output_type": "stream",
     "text": [
      "rasing exception...\n",
      "performing clean with finally...\n"
     ]
    },
    {
     "ename": "NameError",
     "evalue": "name 'valueError' is not defined",
     "output_type": "error",
     "traceback": [
      "\u001b[1;31m---------------------------------------------------------------------------\u001b[0m",
      "\u001b[1;31mNameError\u001b[0m                                 Traceback (most recent call last)",
      "Cell \u001b[1;32mIn[3], line 4\u001b[0m\n\u001b[0;32m      2\u001b[0m \u001b[38;5;28;01mtry\u001b[39;00m:\n\u001b[0;32m      3\u001b[0m     \u001b[38;5;28mprint\u001b[39m(\u001b[38;5;124m\"\u001b[39m\u001b[38;5;124mrasing exception...\u001b[39m\u001b[38;5;124m\"\u001b[39m)\n\u001b[1;32m----> 4\u001b[0m     \u001b[38;5;28;01mraise\u001b[39;00m valueError\n\u001b[0;32m      5\u001b[0m \u001b[38;5;28;01mfinally\u001b[39;00m:\n\u001b[0;32m      6\u001b[0m     \u001b[38;5;28mprint\u001b[39m(\u001b[38;5;124m\"\u001b[39m\u001b[38;5;124mperforming clean with finally...\u001b[39m\u001b[38;5;124m\"\u001b[39m)\n",
      "\u001b[1;31mNameError\u001b[0m: name 'valueError' is not defined"
     ]
    }
   ],
   "source": [
    "#try finally block\n",
    "try:\n",
    "    print(\"rasing exception...\")\n",
    "    raise valueError\n",
    "finally:\n",
    "    print(\"performing clean with finally...\")\n",
    "finally:    \n",
    "    "
   ]
  },
  {
   "cell_type": "code",
   "execution_count": 25,
   "id": "15d500eb-a9f6-46df-b44e-6a6898d66a57",
   "metadata": {},
   "outputs": [
    {
     "name": "stdout",
     "output_type": "stream",
     "text": [
      "rasing exception...\n",
      "except....\n",
      "performing clean with finally...\n"
     ]
    }
   ],
   "source": [
    "#try finally block\n",
    "try:\n",
    "    print(\"rasing exception...\")\n",
    "    raise valueError\n",
    "except:\n",
    "    print(\"except....\")\n",
    "finally:    \n",
    "    print(\"performing clean with finally...\")\n"
   ]
  },
  {
   "cell_type": "code",
   "execution_count": 15,
   "id": "11521570-0144-476a-844b-b932ccc4ffd8",
   "metadata": {},
   "outputs": [
    {
     "name": "stdout",
     "output_type": "stream",
     "text": [
      "dividing two strings....\n",
      "this is the final block... which execute every time\n",
      "here,the  type error is handled which is raised in the inner try \n"
     ]
    }
   ],
   "source": [
    "'''program having finally block to re-raise an exception that will an block'''\n",
    "try:\n",
    "    print('dividing two strings....')\n",
    "    try:\n",
    "       quo=\"abc\"/\"abc\"\n",
    "       print(quo)\n",
    "    finally:\n",
    "       print(\"this is the final block... which execute every time\")\n",
    "except TypeError:\n",
    "    print(\"here,the  type error is handled which is raised in the inner try \")\n",
    "    "
   ]
  },
  {
   "cell_type": "code",
   "execution_count": 17,
   "id": "ee75555f-e223-4092-aac8-9c4803abf663",
   "metadata": {},
   "outputs": [
    {
     "name": "stdout",
     "output_type": "stream",
     "text": [
      "File does not exist....\n"
     ]
    },
    {
     "ename": "FileNotFoundError",
     "evalue": "[Errno 2] No such file or directory: 'abcdef.txt'",
     "output_type": "error",
     "traceback": [
      "\u001b[1;31m---------------------------------------------------------------------------\u001b[0m",
      "\u001b[1;31mFileNotFoundError\u001b[0m                         Traceback (most recent call last)",
      "Cell \u001b[1;32mIn[17], line 2\u001b[0m\n\u001b[0;32m      1\u001b[0m \u001b[38;5;28;01mtry\u001b[39;00m:\n\u001b[1;32m----> 2\u001b[0m     f\u001b[38;5;241m=\u001b[39m\u001b[38;5;28mopen\u001b[39m(\u001b[38;5;124m\"\u001b[39m\u001b[38;5;124mabcdef.txt\u001b[39m\u001b[38;5;124m\"\u001b[39m)\n\u001b[0;32m      3\u001b[0m \u001b[38;5;28;01mexcept\u001b[39;00m:\n\u001b[0;32m      4\u001b[0m     \u001b[38;5;28mprint\u001b[39m(\u001b[38;5;124m\"\u001b[39m\u001b[38;5;124mFile does not exist....\u001b[39m\u001b[38;5;124m\"\u001b[39m)\n",
      "File \u001b[1;32mC:\\ProgramData\\anaconda3\\Lib\\site-packages\\IPython\\core\\interactiveshell.py:324\u001b[0m, in \u001b[0;36m_modified_open\u001b[1;34m(file, *args, **kwargs)\u001b[0m\n\u001b[0;32m    317\u001b[0m \u001b[38;5;28;01mif\u001b[39;00m file \u001b[38;5;129;01min\u001b[39;00m {\u001b[38;5;241m0\u001b[39m, \u001b[38;5;241m1\u001b[39m, \u001b[38;5;241m2\u001b[39m}:\n\u001b[0;32m    318\u001b[0m     \u001b[38;5;28;01mraise\u001b[39;00m \u001b[38;5;167;01mValueError\u001b[39;00m(\n\u001b[0;32m    319\u001b[0m         \u001b[38;5;124mf\u001b[39m\u001b[38;5;124m\"\u001b[39m\u001b[38;5;124mIPython won\u001b[39m\u001b[38;5;124m'\u001b[39m\u001b[38;5;124mt let you open fd=\u001b[39m\u001b[38;5;132;01m{\u001b[39;00mfile\u001b[38;5;132;01m}\u001b[39;00m\u001b[38;5;124m by default \u001b[39m\u001b[38;5;124m\"\u001b[39m\n\u001b[0;32m    320\u001b[0m         \u001b[38;5;124m\"\u001b[39m\u001b[38;5;124mas it is likely to crash IPython. If you know what you are doing, \u001b[39m\u001b[38;5;124m\"\u001b[39m\n\u001b[0;32m    321\u001b[0m         \u001b[38;5;124m\"\u001b[39m\u001b[38;5;124myou can use builtins\u001b[39m\u001b[38;5;124m'\u001b[39m\u001b[38;5;124m open.\u001b[39m\u001b[38;5;124m\"\u001b[39m\n\u001b[0;32m    322\u001b[0m     )\n\u001b[1;32m--> 324\u001b[0m \u001b[38;5;28;01mreturn\u001b[39;00m io_open(file, \u001b[38;5;241m*\u001b[39margs, \u001b[38;5;241m*\u001b[39m\u001b[38;5;241m*\u001b[39mkwargs)\n",
      "\u001b[1;31mFileNotFoundError\u001b[0m: [Errno 2] No such file or directory: 'abcdef.txt'"
     ]
    }
   ],
   "source": [
    "try:\n",
    "    f=open(\"abcdef.txt\")\n",
    "except:\n",
    "    print(\"File does not exist....\")\n",
    "    raise\n",
    "\n"
   ]
  },
  {
   "cell_type": "code",
   "execution_count": 27,
   "id": "9592cc4d-db57-4285-bf48-eeb5cc2e176f",
   "metadata": {},
   "outputs": [
    {
     "name": "stdin",
     "output_type": "stream",
     "text": [
      " enter the temp in c 100\n"
     ]
    },
    {
     "ename": "AssertionError",
     "evalue": "its freezing",
     "output_type": "error",
     "traceback": [
      "\u001b[1;31m---------------------------------------------------------------------------\u001b[0m",
      "\u001b[1;31mAssertionError\u001b[0m                            Traceback (most recent call last)",
      "Cell \u001b[1;32mIn[27], line 4\u001b[0m\n\u001b[0;32m      2\u001b[0m c\u001b[38;5;241m=\u001b[39m\u001b[38;5;28mint\u001b[39m(\u001b[38;5;28minput\u001b[39m(\u001b[38;5;124m\"\u001b[39m\u001b[38;5;124m enter the temp in c\u001b[39m\u001b[38;5;124m\"\u001b[39m))\n\u001b[0;32m      3\u001b[0m f\u001b[38;5;241m=\u001b[39m(c\u001b[38;5;241m*\u001b[39m\u001b[38;5;241m9\u001b[39m\u001b[38;5;241m/\u001b[39m\u001b[38;5;241m5\u001b[39m)\u001b[38;5;241m+\u001b[39m\u001b[38;5;241m32\u001b[39m\n\u001b[1;32m----> 4\u001b[0m \u001b[38;5;28;01massert\u001b[39;00m (f\u001b[38;5;241m<\u001b[39m\u001b[38;5;241m=\u001b[39m\u001b[38;5;241m32\u001b[39m),\u001b[38;5;124m\"\u001b[39m\u001b[38;5;124mits freezing\u001b[39m\u001b[38;5;124m\"\u001b[39m\n\u001b[0;32m      5\u001b[0m \u001b[38;5;28mprint\u001b[39m(\u001b[38;5;124m\"\u001b[39m\u001b[38;5;124mtemperature in fahrenhite=\u001b[39m\u001b[38;5;124m\"\u001b[39m,f)\n",
      "\u001b[1;31mAssertionError\u001b[0m: its freezing"
     ]
    }
   ],
   "source": [
    "#assert statment\n",
    "c=int(input(\" enter the temp in c\"))\n",
    "f=(c*9/5)+32\n",
    "assert (f<=32),\"its freezing\"\n",
    "print(\"temperature in fahrenhite=\",f)\n",
    "\n",
    "\n"
   ]
  },
  {
   "cell_type": "code",
   "execution_count": 29,
   "id": "39b9206f-f1ed-491c-8ded-5555efdf0aaf",
   "metadata": {},
   "outputs": [
    {
     "ename": "SyntaxError",
     "evalue": "incomplete input (171722011.py, line 6)",
     "output_type": "error",
     "traceback": [
      "\u001b[1;36m  Cell \u001b[1;32mIn[29], line 6\u001b[1;36m\u001b[0m\n\u001b[1;33m    \u001b[0m\n\u001b[1;37m    ^\u001b[0m\n\u001b[1;31mSyntaxError\u001b[0m\u001b[1;31m:\u001b[0m incomplete input\n"
     ]
    }
   ],
   "source": [
    "try:\n",
    "    f=open(\"abcdef.txt\")\n",
    "    x=f.readline()\n",
    "    print(x)\n",
    "except:\n",
    "    "
   ]
  },
  {
   "cell_type": "code",
   "execution_count": 31,
   "id": "e48d1521-be52-4589-af63-83062aff1c13",
   "metadata": {},
   "outputs": [
    {
     "name": "stdin",
     "output_type": "stream",
     "text": [
      "enter a number: 5\n"
     ]
    },
    {
     "name": "stdout",
     "output_type": "stream",
     "text": [
      "25\n"
     ]
    }
   ],
   "source": [
    "'''write a program that prompts the user\n",
    "to enter a number andv print its square \n",
    "from exceptional handlind for keyoard interrupt'''\n",
    "num=int(input(\"enter a number:\"))\n",
    "try:\n",
    "    output=num*num\n",
    "    print(output)\n",
    "except keyboardInterrupt:\n",
    "    print(\"program has been interrupted\")"
   ]
  },
  {
   "cell_type": "code",
   "execution_count": 42,
   "id": "85a965bd-c1be-41c6-bfe7-a6593a8c0f43",
   "metadata": {},
   "outputs": [
    {
     "name": "stdout",
     "output_type": "stream",
     "text": [
      "1 2 3 4 5 6 7 8 9 10 11 12 13 14 15 16 17 18 19 20 21 22 23 24 25 26 27 28 29 30 "
     ]
    }
   ],
   "source": [
    "'''program which infinitly print natuerall numbers raise an exception after printing \n",
    "first 30 numbers exit the program'''\n",
    "n=0\n",
    "while True:\n",
    "    try:\n",
    "        n=n+1\n",
    "        if n==31:\n",
    "            raise StopIteration\n",
    "    except StopIteration:\n",
    "        break\n",
    "    else:\n",
    "        print(n,end=\" \")"
   ]
  },
  {
   "cell_type": "code",
   "execution_count": 18,
   "id": "13936408-b4cb-4b75-8fbf-5c1f71a1670f",
   "metadata": {},
   "outputs": [
    {
     "name": "stdin",
     "output_type": "stream",
     "text": [
      "enter size: 5\n",
      "enter element 1: 1\n",
      "enter element 2: 2\n",
      "enter element 3: 3\n",
      "enter element 4: 4\n",
      "enter element 5: 3\n",
      "enter index accesed element: 2\n"
     ]
    },
    {
     "name": "stdout",
     "output_type": "stream",
     "text": [
      "element at index: 2 is 3\n"
     ]
    }
   ],
   "source": [
    "\n",
    "try:\n",
    "    size=int(input(\"enter size:\")) \n",
    "    user_list=[]\n",
    "    for i in range(size):\n",
    "        val=int(input(f\"enter element {i+1}:\"))\n",
    "        user_list.append(val)\n",
    "    index=int(input(\"enter index accesed element:\"))\n",
    "    print(\"element at index:\",index,\"is\",user_list[index])\n",
    "except ValueError:\n",
    "    print(\"Error :please enter only integers\")\n",
    "except IndexError:\n",
    "    print(\"error:index.... out of range......\")\n",
    "        "
   ]
  },
  {
   "cell_type": "code",
   "execution_count": 22,
   "id": "ba156fca-37dc-4e44-a502-04fb64fefb7d",
   "metadata": {},
   "outputs": [
    {
     "name": "stdin",
     "output_type": "stream",
     "text": [
      "enter size: 5\n",
      "enter element 1: 1\n",
      "enter element 2: 2\n",
      "enter element 3: 3\n",
      "enter element 4: 4\n",
      "enter element 5: 5\n",
      "enter index accesed element: 6\n"
     ]
    },
    {
     "name": "stdout",
     "output_type": "stream",
     "text": [
      "error:index.... out of range......\n"
     ]
    }
   ],
   "source": [
    "try:\n",
    "    size=int(input(\"enter size:\")) \n",
    "    user_list=[]\n",
    "    for i in range(size):\n",
    "        val=int(input(f\"enter element {i+1}:\"))\n",
    "        user_list.append(val)\n",
    "    index=int(input(\"enter index accesed element:\"))\n",
    "    print(\"element at index:\",index,\"is\",user_list[index])\n",
    "except ValueError:\n",
    "    print(\"Error :please enter only integers\")\n",
    "except IndexError:\n",
    "    print(\"error:index.... out of range......\")\n",
    "        "
   ]
  },
  {
   "cell_type": "code",
   "execution_count": null,
   "id": "e0b8d095-b02d-48cd-9fc5-3e59651d62db",
   "metadata": {},
   "outputs": [],
   "source": []
  }
 ],
 "metadata": {
  "kernelspec": {
   "display_name": "Python 3 (ipykernel)",
   "language": "python",
   "name": "python3"
  },
  "language_info": {
   "codemirror_mode": {
    "name": "ipython",
    "version": 3
   },
   "file_extension": ".py",
   "mimetype": "text/x-python",
   "name": "python",
   "nbconvert_exporter": "python",
   "pygments_lexer": "ipython3",
   "version": "3.12.7"
  }
 },
 "nbformat": 4,
 "nbformat_minor": 5
}

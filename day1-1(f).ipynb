{
 "cells": [
  {
   "cell_type": "code",
   "execution_count": 3,
   "id": "6864822b-2527-4176-8e93-da418963a1bd",
   "metadata": {},
   "outputs": [
    {
     "name": "stdout",
     "output_type": "stream",
     "text": [
      "After Swapping no:-\n",
      "a= 2\n",
      "b= 1\n"
     ]
    }
   ],
   "source": [
    "#tupple swapping\n",
    "a=1\n",
    "b=2\n",
    "a,b=b,a\n",
    "print(\"After Swapping no:-\")\n",
    "print(\"a=\",a)\n",
    "print(\"b=\",b)"
   ]
  },
  {
   "cell_type": "code",
   "execution_count": 7,
   "id": "2cc550f8-1694-4846-83ff-e2abd00b4de4",
   "metadata": {},
   "outputs": [
    {
     "name": "stdout",
     "output_type": "stream",
     "text": [
      "2\n",
      "1\n"
     ]
    }
   ],
   "source": [
    "#swapping using temp\n",
    "a=1\n",
    "b=2\n",
    "c=a\n",
    "a=b\n",
    "b=c\n",
    "print(\"After Swapping no:-\")\n",
    "print(a)\n",
    "print(b)"
   ]
  },
  {
   "cell_type": "code",
   "execution_count": 11,
   "id": "0730544b-a971-4988-b406-8d66fa4d17ae",
   "metadata": {},
   "outputs": [
    {
     "name": "stdout",
     "output_type": "stream",
     "text": [
      "a= 2\n",
      "b= 1\n"
     ]
    }
   ],
   "source": [
    "#swapping using arithematic operators(+/-)\n",
    "a=1\n",
    "b=2\n",
    "a=a+b\n",
    "b=a-b\n",
    "a=a-b\n",
    "print(\"After Swapping no:-\")\n",
    "print(\"a=\",a)\n",
    "print(\"b=\",b)"
   ]
  },
  {
   "cell_type": "code",
   "execution_count": 17,
   "id": "de555176-1a85-4b35-82d9-4504f5954a60",
   "metadata": {},
   "outputs": [
    {
     "name": "stdout",
     "output_type": "stream",
     "text": [
      "After Swapping no:-\n",
      "a= 2\n",
      "b= 1\n"
     ]
    }
   ],
   "source": [
    "#swapping using arithematic operators(*/\"/\")\n",
    "a=1\n",
    "b=2\n",
    "a=a*b\n",
    "b=a//b\n",
    "print(\"After Swapping no:-\")\n",
    "print(\"a=\",a)\n",
    "print(\"b=\",b)"
   ]
  },
  {
   "cell_type": "code",
   "execution_count": null,
   "id": "c9c72b52-1f8a-4c89-a9c3-a0c85d0ea7f7",
   "metadata": {},
   "outputs": [],
   "source": []
  }
 ],
 "metadata": {
  "kernelspec": {
   "display_name": "Python 3 (ipykernel)",
   "language": "python",
   "name": "python3"
  },
  "language_info": {
   "codemirror_mode": {
    "name": "ipython",
    "version": 3
   },
   "file_extension": ".py",
   "mimetype": "text/x-python",
   "name": "python",
   "nbconvert_exporter": "python",
   "pygments_lexer": "ipython3",
   "version": "3.12.7"
  }
 },
 "nbformat": 4,
 "nbformat_minor": 5
}

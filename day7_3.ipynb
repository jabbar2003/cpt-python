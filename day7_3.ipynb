{
 "cells": [
  {
   "cell_type": "code",
   "execution_count": 27,
   "id": "fd73746a-ed15-48de-a33f-37e3be4a2a01",
   "metadata": {},
   "outputs": [
    {
     "name": "stdout",
     "output_type": "stream",
     "text": [
      "     *\n",
      "    **\n",
      "   ***\n",
      "  ****\n",
      " *****\n"
     ]
    }
   ],
   "source": [
    "n=5\n",
    "for i in range(1,n+1):\n",
    "    print(' '*(n-i),end=' ')\n",
    "    for j in range(i):\n",
    "        print('*',end='')\n",
    "    print()\n",
    "    n=5"
   ]
  },
  {
   "cell_type": "code",
   "execution_count": 17,
   "id": "33d9299e-8e22-473e-915d-b303ad839010",
   "metadata": {},
   "outputs": [
    {
     "name": "stdout",
     "output_type": "stream",
     "text": [
      "     *\n",
      "    **\n",
      "   ***\n",
      "  ****\n",
      " *****\n",
      "  ****\n",
      "   ***\n",
      "    **\n",
      "     *\n"
     ]
    }
   ],
   "source": [
    "n=5\n",
    "for i in range(1,n+1):\n",
    "    print(' '*(n-i),end=' ')\n",
    "    for j in range(i):\n",
    "        print('*',end='')\n",
    "    print()\n",
    "    n=5\n",
    "for i in range(n-1,0,-1):\n",
    "    print(' '*(n-i),end=' ')\n",
    "    for j in range(i):\n",
    "        print('*',end='')\n",
    "    print()"
   ]
  },
  {
   "cell_type": "code",
   "execution_count": 19,
   "id": "50ffbde7-4188-44a0-8cae-a5134c2d375a",
   "metadata": {},
   "outputs": [
    {
     "name": "stdout",
     "output_type": "stream",
     "text": [
      "     * \n",
      "    * * \n",
      "   * * * \n",
      "  * * * * \n",
      " * * * * * \n",
      "  * * * * \n",
      "   * * * \n",
      "    * * \n",
      "     * \n"
     ]
    }
   ],
   "source": [
    "n=5\n",
    "for i in range(1,n+1):\n",
    "    print(' '*(n-i),end=' ')\n",
    "    for j in range(i):\n",
    "        print('* ',end='')\n",
    "    print()\n",
    "    n=5\n",
    "for i in range(n-1,0,-1):\n",
    "    print(' '*(n-i),end=' ')\n",
    "    for j in range(i):\n",
    "        print('* ',end='')\n",
    "    print()"
   ]
  },
  {
   "cell_type": "code",
   "execution_count": 23,
   "id": "6d5ea421-0c7f-4ad7-b375-4c7b71799ebe",
   "metadata": {},
   "outputs": [
    {
     "name": "stdout",
     "output_type": "stream",
     "text": [
      "               \n"
     ]
    }
   ],
   "source": [
    "n=5\n",
    "for i in range(1,n+1):\n",
    "    print(' '*(n-i),end=' ')\n",
    "print()"
   ]
  },
  {
   "cell_type": "code",
   "execution_count": null,
   "id": "b34d6e7f-1a76-4c9d-866f-812c611fc1cc",
   "metadata": {},
   "outputs": [],
   "source": [
    "r=3\n",
    "for i in range(1,r+1):\n",
    "    print(' '*(r-i)+'*'*(2*i-1))\n",
    "    "
   ]
  }
 ],
 "metadata": {
  "kernelspec": {
   "display_name": "Python 3 (ipykernel)",
   "language": "python",
   "name": "python3"
  },
  "language_info": {
   "codemirror_mode": {
    "name": "ipython",
    "version": 3
   },
   "file_extension": ".py",
   "mimetype": "text/x-python",
   "name": "python",
   "nbconvert_exporter": "python",
   "pygments_lexer": "ipython3",
   "version": "3.12.7"
  }
 },
 "nbformat": 4,
 "nbformat_minor": 5
}

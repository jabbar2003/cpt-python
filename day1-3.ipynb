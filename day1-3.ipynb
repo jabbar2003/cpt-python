{
 "cells": [
  {
   "cell_type": "code",
   "execution_count": 5,
   "id": "6f6044a9-6ff5-4fec-aaa5-05934f47f397",
   "metadata": {},
   "outputs": [
    {
     "name": "stdout",
     "output_type": "stream",
     "text": [
      "6\n",
      "[3, 4, 5]\n",
      "[0, 1, 2]\n",
      "[0, 2, 4]\n",
      "[5, 4, 3, 2, 1, 0]\n",
      "False\n",
      "True\n"
     ]
    }
   ],
   "source": [
    "n=[0,1,2,3,4,5]\n",
    "print(len(n))\n",
    "print(n[3:6])\n",
    "print(n[:3])\n",
    "print(n[::2])\n",
    "print(n[::-1])\n",
    "print(6 in n)\n",
    "print(5 in n)"
   ]
  },
  {
   "cell_type": "code",
   "execution_count": 11,
   "id": "77cc1dc1-02bd-4eb1-a020-0d8acb071159",
   "metadata": {},
   "outputs": [
    {
     "name": "stdout",
     "output_type": "stream",
     "text": [
      "['Apple', 'Cherry', 'mango']\n"
     ]
    }
   ],
   "source": [
    "l=['Apple','mango','Cherry']\n",
    "o=l.sort()\n",
    "print(l)\n",
    "l.reverse()"
   ]
  },
  {
   "cell_type": "code",
   "execution_count": 19,
   "id": "c6cfd4af-8aee-43cf-a5cb-fb2f03d9b0da",
   "metadata": {},
   "outputs": [
    {
     "name": "stdout",
     "output_type": "stream",
     "text": [
      "[3, 4]\n",
      "5\n"
     ]
    }
   ],
   "source": [
    "nn=[[1,2],[3,4],[5,6]]\n",
    "print(nn[1])\n",
    "print(nn[2][0])"
   ]
  },
  {
   "cell_type": "code",
   "execution_count": null,
   "id": "99839a0d-7b38-4e0e-a6cc-9ee2c502c556",
   "metadata": {},
   "outputs": [],
   "source": []
  }
 ],
 "metadata": {
  "kernelspec": {
   "display_name": "Python 3 (ipykernel)",
   "language": "python",
   "name": "python3"
  },
  "language_info": {
   "codemirror_mode": {
    "name": "ipython",
    "version": 3
   },
   "file_extension": ".py",
   "mimetype": "text/x-python",
   "name": "python",
   "nbconvert_exporter": "python",
   "pygments_lexer": "ipython3",
   "version": "3.12.7"
  }
 },
 "nbformat": 4,
 "nbformat_minor": 5
}

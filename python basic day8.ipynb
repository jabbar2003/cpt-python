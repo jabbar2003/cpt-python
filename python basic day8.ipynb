{
 "cells": [
  {
   "cell_type": "code",
   "execution_count": 1,
   "id": "26e80f94-2536-40de-87c5-895f22a776bc",
   "metadata": {},
   "outputs": [
    {
     "name": "stdout",
     "output_type": "stream",
     "text": [
      "10\n",
      "10\n"
     ]
    }
   ],
   "source": [
    "#scope and lifetime of args in a function\n",
    "num=10\n",
    "print(num)\n",
    "def modify():\n",
    "    global num\n",
    "    num-100\n",
    "modify()\n",
    "print(num)"
   ]
  },
  {
   "cell_type": "code",
   "execution_count": 3,
   "id": "4e0fe4c5-ee72-40a7-9d48-c15dbb20cf6b",
   "metadata": {},
   "outputs": [
    {
     "name": "stdout",
     "output_type": "stream",
     "text": [
      "Initial state:False\n",
      "state after 1st toggle:True\n",
      "state after 2nd toggle:False\n"
     ]
    },
    {
     "data": {
      "text/plain": [
       "True"
      ]
     },
     "execution_count": 3,
     "metadata": {},
     "output_type": "execute_result"
    }
   ],
   "source": [
    "#toggle state function\n",
    "#toggling a global flag\n",
    "is_active=False\n",
    "def toggle_state():\n",
    "    global is_active\n",
    "    is_active= not is_active\n",
    "    return is_active\n",
    "\n",
    "print(f'Initial state:{is_active}')\n",
    "toggle_state()\n",
    "print(f'state after 1st toggle:{is_active}')\n",
    "toggle_state()\n",
    "print(f'state after 2nd toggle:{is_active}')\n",
    "toggle_state()"
   ]
  },
  {
   "cell_type": "code",
   "execution_count": 4,
   "id": "3e1c26c7-d920-4d66-ba30-159691ce82ea",
   "metadata": {},
   "outputs": [
    {
     "name": "stdout",
     "output_type": "stream",
     "text": [
      "Initial state:True\n",
      "state after 1st toggle:False\n",
      "state after 2nd toggle:True\n"
     ]
    },
    {
     "data": {
      "text/plain": [
       "False"
      ]
     },
     "execution_count": 4,
     "metadata": {},
     "output_type": "execute_result"
    }
   ],
   "source": [
    "is_active=True\n",
    "def toggle_state():\n",
    "    global is_active\n",
    "    is_active= not is_active\n",
    "    return is_active\n",
    "\n",
    "print(f'Initial state:{is_active}')\n",
    "toggle_state()\n",
    "print(f'state after 1st toggle:{is_active}')\n",
    "toggle_state()\n",
    "print(f'state after 2nd toggle:{is_active}')\n",
    "toggle_state()"
   ]
  },
  {
   "cell_type": "code",
   "execution_count": 5,
   "id": "fe081939-56ad-4a31-8ce0-42bc2be02ea3",
   "metadata": {},
   "outputs": [
    {
     "name": "stdout",
     "output_type": "stream",
     "text": [
      "Enter a: 34\n",
      "Enter b: 23\n"
     ]
    },
    {
     "name": "stdout",
     "output_type": "stream",
     "text": [
      "57\n"
     ]
    }
   ],
   "source": [
    "# annotations \n",
    "def add(a:int,b:int)->int:\n",
    "    return a+b\n",
    "\n",
    "a=int(input(\"Enter a:\"))\n",
    "b=int(input(\"Enter b:\"))\n",
    "print(add(a,b))"
   ]
  },
  {
   "cell_type": "code",
   "execution_count": 4,
   "id": "ecfea183-28be-404f-b00a-888073680a80",
   "metadata": {},
   "outputs": [
    {
     "name": "stdout",
     "output_type": "stream",
     "text": [
      "area of the rectangle is: 2\n"
     ]
    }
   ],
   "source": [
    "'''write a program to find the area of a rectangle of a values, which was \n",
    "associated with a single annotations and return the value accodingly\n",
    "a=4\n",
    "b=5\n",
    "x=2\n",
    "y=4'''\n",
    "a=4\n",
    "b=5\n",
    "x=2\n",
    "y=4\n",
    "L=abs(a-x)\n",
    "B=abs(b-y)\n",
    "area=L*B\n",
    "print(\"area of the rectangle is:\",area)\n",
    "    "
   ]
  },
  {
   "cell_type": "code",
   "execution_count": 4,
   "id": "a1596e19-7b6c-416b-bda8-247681013a23",
   "metadata": {},
   "outputs": [
    {
     "name": "stdout",
     "output_type": "stream",
     "text": [
      "pravallika khanam vineela\n",
      "CSE CSM WEB DEVLOPRA\n"
     ]
    }
   ],
   "source": [
    "from typing import List, Optional\n",
    "def names(n:List[str],seperator:Optional[str]=' ')->str:\n",
    "    return seperator.join(n)\n",
    "print(names(['pravallika','khanam','vineela']))\n",
    "print(names(['CSE','CSM','WEB DEVLOPRA']))\n",
    "\n",
    "\n",
    "\n",
    "    "
   ]
  },
  {
   "cell_type": "code",
   "execution_count": 8,
   "id": "7dc7aea9-83f2-45b3-be1d-49320869f9d2",
   "metadata": {},
   "outputs": [
    {
     "name": "stdout",
     "output_type": "stream",
     "text": [
      "Enter numbers seperated by space: 5 7 3 2\n"
     ]
    },
    {
     "name": "stdout",
     "output_type": "stream",
     "text": [
      "sum:17.0\n"
     ]
    }
   ],
   "source": [
    "'''#tuple arg keyword functions\n",
    "#program to find the sum of n user input values by tuple args\n",
    "syntax\n",
    "def udn(*args)'''\n",
    "def sumnum(*args):\n",
    "    return sum(args)\n",
    "nums=input(\"Enter numbers seperated by space:\")\n",
    "numbers=[float(x) for x in nums.split()]\n",
    "result=sumnum(*numbers)\n",
    "print(f'sum:{result}')"
   ]
  },
  {
   "cell_type": "code",
   "execution_count": 15,
   "id": "3f1ca530-f56c-44d6-a3ca-11aaefd25fd7",
   "metadata": {},
   "outputs": [
    {
     "name": "stdout",
     "output_type": "stream",
     "text": [
      "Enter numbers seperated by space: 2 3 4 5 6\n"
     ]
    },
    {
     "name": "stdout",
     "output_type": "stream",
     "text": [
      "Sorted:[2, 3, 4, 5, 6]\n",
      "descending: [6, 5, 4, 3, 2]\n"
     ]
    }
   ],
   "source": [
    "def sortnum(*args):\n",
    "    return sorted(args)\n",
    "nums=input(\"Enter numbers seperated by space:\")\n",
    "numbers=[int(x) for x in nums.split()]\n",
    "result=sortnum(*numbers)\n",
    "print(f\"Sorted:{result}\")\n",
    "x=result[::-1]\n",
    "print(\"descending:\",x)\n"
   ]
  },
  {
   "cell_type": "code",
   "execution_count": 26,
   "id": "8ab99a00-459e-44e3-891d-9de69ec5c923",
   "metadata": {},
   "outputs": [
    {
     "name": "stdout",
     "output_type": "stream",
     "text": [
      "name:pravallika\n",
      "age:21\n"
     ]
    }
   ],
   "source": [
    "'''keyword args\n",
    "* - numbers\n",
    "**args-> string with value using a dictionary\n",
    "key- value pair'''\n",
    "\n",
    "def info(**kwargs):\n",
    "    for key,value in kwargs.items():\n",
    "        print(f\"{key}:{value}\")\n",
    "info(name='jabbar',age=21)"
   ]
  },
  {
   "cell_type": "code",
   "execution_count": 28,
   "id": "7a0ab007-e40a-4450-a635-7464044d9ee6",
   "metadata": {},
   "outputs": [
    {
     "name": "stdout",
     "output_type": "stream",
     "text": [
      "Hello!!\n",
      "name=>jabbar\n",
      "age=>20\n",
      "city=>vijayawada\n",
      "language=>Telugu\n"
     ]
    }
   ],
   "source": [
    "def info(hi,**kwargs):\n",
    "    print(hi)\n",
    "    for key,value in kwargs.items():\n",
    "        print(f\"{key}=>{value}\")\n",
    "info(\"Hello!!\",name='jabbar',age=20,city='vijayawada',language='Telugu')"
   ]
  },
  {
   "cell_type": "code",
   "execution_count": null,
   "id": "add552c0-6a2d-4f5e-a114-9f81c4da2a91",
   "metadata": {},
   "outputs": [],
   "source": []
  }
 ],
 "metadata": {
  "kernelspec": {
   "display_name": "Python 3 (ipykernel)",
   "language": "python",
   "name": "python3"
  },
  "language_info": {
   "codemirror_mode": {
    "name": "ipython",
    "version": 3
   },
   "file_extension": ".py",
   "mimetype": "text/x-python",
   "name": "python",
   "nbconvert_exporter": "python",
   "pygments_lexer": "ipython3",
   "version": "3.12.7"
  }
 },
 "nbformat": 4,
 "nbformat_minor": 5
}

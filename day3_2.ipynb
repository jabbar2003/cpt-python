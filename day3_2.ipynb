{
 "cells": [
  {
   "cell_type": "code",
   "execution_count": 11,
   "id": "c682a8bb-54bb-4c9b-b0e0-b8bbd920afc7",
   "metadata": {},
   "outputs": [
    {
     "name": "stdout",
     "output_type": "stream",
     "text": [
      "UNION: {1, 2, 3, 4, 5}\n",
      "Intersection: {3}\n",
      "differenve: {1, 2}\n",
      "Symmentric difference: {1, 2, 4, 5}\n"
     ]
    }
   ],
   "source": [
    "#union means with out repeating the commom element printing all the elements \n",
    "a={1,2,3}\n",
    "b={3,4,5}\n",
    "print(\"UNION:\",a.union(b))\n",
    "print(\"Intersection:\",a.intersection(b))\n",
    "print(\"differenve:\",a.difference(b))\n",
    "print(\"Symmentric difference:\",a.symmetric_difference(b))"
   ]
  },
  {
   "cell_type": "code",
   "execution_count": 5,
   "id": "77650f34-cad1-40e3-960b-eb5eddf07d97",
   "metadata": {},
   "outputs": [
    {
     "name": "stdout",
     "output_type": "stream",
     "text": [
      "a is subset to b: True\n",
      "b is subset to a: False\n",
      "a is superset to b: False\n",
      "b is superset to a: True\n"
     ]
    }
   ],
   "source": [
    "#subset check\n",
    "a={1,2}\n",
    "b={1,2,3,4,5}\n",
    "print(\"a is subset to b:\",a.issubset(b))\n",
    "print(\"b is subset to a:\",b.issubset(a))\n",
    "print(\"a is superset to b:\",a.issuperset(b))\n",
    "print(\"b is superset to a:\",b.issuperset(a))"
   ]
  },
  {
   "cell_type": "code",
   "execution_count": 7,
   "id": "a587b039-aeb6-41ba-952a-bb25461c562f",
   "metadata": {},
   "outputs": [
    {
     "name": "stdout",
     "output_type": "stream",
     "text": [
      "Subset or not: True\n",
      "proper subset or not: True\n",
      "superset or not: False\n",
      "proper superset or not: True\n"
     ]
    }
   ],
   "source": [
    "a={1,2}\n",
    "b={1,2,3,4,5}\n",
    "print(\"Subset or not:\",a<=b)\n",
    "print(\"proper subset or not:\",a<b)\n",
    "print(\"superset or not:\",a>=b)\n",
    "print(\"proper superset or not:\",b>a)\n"
   ]
  },
  {
   "cell_type": "code",
   "execution_count": null,
   "id": "030e7f82-317e-4de9-bdb9-600348aa7fff",
   "metadata": {},
   "outputs": [],
   "source": []
  }
 ],
 "metadata": {
  "kernelspec": {
   "display_name": "Python 3 (ipykernel)",
   "language": "python",
   "name": "python3"
  },
  "language_info": {
   "codemirror_mode": {
    "name": "ipython",
    "version": 3
   },
   "file_extension": ".py",
   "mimetype": "text/x-python",
   "name": "python",
   "nbconvert_exporter": "python",
   "pygments_lexer": "ipython3",
   "version": "3.12.7"
  }
 },
 "nbformat": 4,
 "nbformat_minor": 5
}

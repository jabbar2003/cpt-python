{
 "cells": [
  {
   "cell_type": "code",
   "execution_count": 3,
   "id": "16edc201-866d-46f7-a654-67e3d1e732e4",
   "metadata": {},
   "outputs": [
    {
     "name": "stdin",
     "output_type": "stream",
     "text": [
      "Enter the size of n 5\n"
     ]
    },
    {
     "name": "stdout",
     "output_type": "stream",
     "text": [
      "\n",
      "^ \n",
      "^ ^ \n",
      "^ ^ ^ \n",
      "^ ^ ^ ^ \n"
     ]
    }
   ],
   "source": [
    "n=int(input(\"Enter the size of n\"))\n",
    "for i in range(n):\n",
    "    for j in range(i):\n",
    "        print('^',end=' ')\n",
    "    print()"
   ]
  },
  {
   "cell_type": "code",
   "execution_count": 5,
   "id": "cdb665cb-43be-4aab-8f22-46b2376e770a",
   "metadata": {},
   "outputs": [
    {
     "name": "stdout",
     "output_type": "stream",
     "text": [
      "\n",
      "*\n",
      "**\n",
      "***\n",
      "****\n"
     ]
    }
   ],
   "source": [
    "for i in range(5):\n",
    "    print(\"*\" *i)"
   ]
  },
  {
   "cell_type": "code",
   "execution_count": 13,
   "id": "c815c9c2-66fd-4a2b-8ccf-96ef132e3e2c",
   "metadata": {},
   "outputs": [
    {
     "name": "stdout",
     "output_type": "stream",
     "text": [
      "0\n",
      "2\n",
      "4\n",
      "6\n",
      "8\n"
     ]
    }
   ],
   "source": [
    "for i in range(5):\n",
    "    print(i*2)"
   ]
  },
  {
   "cell_type": "code",
   "execution_count": 25,
   "id": "048523db-312a-49d3-8c22-4e36b7c4c598",
   "metadata": {},
   "outputs": [
    {
     "name": "stdin",
     "output_type": "stream",
     "text": [
      "Enter the size of n 5\n"
     ]
    },
    {
     "name": "stdout",
     "output_type": "stream",
     "text": [
      "* * * * * \n",
      "*       * \n",
      "*       * \n",
      "*       * \n",
      "* * * * * \n"
     ]
    }
   ],
   "source": [
    "n=int(input(\"Enter the size of n\"))\n",
    "for i in range(n):\n",
    "    for j in range(n):\n",
    "        if i==0 or i==n-1 or j==0 or j==n-1 :\n",
    "            print('*',end=' ')\n",
    "        else:\n",
    "            print(' ',end=' ')\n",
    "    print()"
   ]
  },
  {
   "cell_type": "code",
   "execution_count": 47,
   "id": "ff1daec9-f423-4b93-ba50-e05b2dcf965c",
   "metadata": {},
   "outputs": [
    {
     "name": "stdout",
     "output_type": "stream",
     "text": [
      "V \n",
      "V i \n",
      "V i j \n",
      "V i j a \n",
      "V i j a y \n",
      "V i j a y a \n",
      "V i j a y a w \n",
      "V i j a y a w a \n",
      "V i j a y a w a d \n",
      "V i j a y a w a d a \n"
     ]
    }
   ],
   "source": [
    "text='Vijayawada'\n",
    "r=len(text)\n",
    "for i in range(r):\n",
    "    for j in range(i+1):\n",
    "        print(text[j],end=' ')\n",
    "    print()"
   ]
  },
  {
   "cell_type": "code",
   "execution_count": 35,
   "id": "4dc085ee-0bcf-46b1-af6f-729cb1e79e4a",
   "metadata": {},
   "outputs": [
    {
     "name": "stdin",
     "output_type": "stream",
     "text": [
      "Enter the size of n 6\n"
     ]
    },
    {
     "name": "stdout",
     "output_type": "stream",
     "text": [
      "*         * \n",
      "* *     * * \n",
      "*   * *   * \n",
      "*   * *   * \n",
      "* *     * * \n",
      "*         * \n"
     ]
    }
   ],
   "source": [
    "n=int(input(\"Enter the size of n\"))\n",
    "for i in range(n):\n",
    "    for j in range(n):\n",
    "        if j==0 or j==n-1 or i==j or i+j==n-1 :\n",
    "            print('*',end=' ')\n",
    "        else:\n",
    "            print(' ',end=' ')\n",
    "    print()"
   ]
  },
  {
   "cell_type": "code",
   "execution_count": 31,
   "id": "340ec23d-945e-4513-b5ff-6b19e4b2ddf0",
   "metadata": {},
   "outputs": [
    {
     "name": "stdin",
     "output_type": "stream",
     "text": [
      " 5\n"
     ]
    },
    {
     "name": "stdout",
     "output_type": "stream",
     "text": [
      "* * * * * \n",
      "* * * * \n",
      "* * * \n",
      "* * \n",
      "* \n"
     ]
    }
   ],
   "source": [
    "n=int(input())\n",
    "for i in range(n):\n",
    "    for j in range(n-i):\n",
    "        print(\"*\",end=' ')\n",
    "    print()"
   ]
  },
  {
   "cell_type": "code",
   "execution_count": 43,
   "id": "43344bd3-2966-4692-bca9-73c905947f8c",
   "metadata": {},
   "outputs": [
    {
     "name": "stdout",
     "output_type": "stream",
     "text": [
      "*-->\n",
      "*-->*-->\n",
      "*-->*-->*-->\n",
      "*-->*-->*-->*-->\n",
      "*-->*-->*-->*-->*-->\n",
      "*-->*-->*-->*-->\n",
      "*-->*-->*-->\n",
      "*-->*-->\n",
      "*-->\n"
     ]
    }
   ],
   "source": [
    "n=5\n",
    "for i in range(1,2*n):\n",
    "    s= i if i<=n else 2*n-i\n",
    "    for j in range(s):\n",
    "        print(\"*\",end='-->')\n",
    "    print()"
   ]
  },
  {
   "cell_type": "code",
   "execution_count": 3,
   "id": "992251ff-6582-472c-a0ed-c7e30bf77e23",
   "metadata": {},
   "outputs": [
    {
     "name": "stdout",
     "output_type": "stream",
     "text": [
      "        1   \n",
      "      1   1   \n",
      "    1   2   1   \n",
      "  1   3   3   1   \n",
      "1   4   6   4   1   \n"
     ]
    }
   ],
   "source": [
    "n=5\n",
    "for i in range(n):\n",
    "    for s in range(n-i-1):\n",
    "        print(' ',end=' ')\n",
    "    num=1\n",
    "    for j in range(i+1):\n",
    "        print(f\"{num}  \",end=' ')\n",
    "        num= num*(i-j)//(j+1)\n",
    "    print()                                            "
   ]
  },
  {
   "cell_type": "code",
   "execution_count": 30,
   "id": "776529c9-acc4-46e0-b3b2-5ca7c5138db2",
   "metadata": {},
   "outputs": [
    {
     "name": "stdout",
     "output_type": "stream",
     "text": [
      "\n",
      "26 \n",
      "26 26 \n",
      "26 26 26 \n",
      "26 26 26 26 \n",
      "26 26 26 26 26 \n",
      "26 26 26 26 26 26 \n",
      "26 26 26 26 26 26 26 \n",
      "26 26 26 26 26 26 26 26 \n",
      "26 26 26 26 26 26 26 26 26 \n",
      "26 26 26 26 26 26 26 26 26 26 \n",
      "26 26 26 26 26 26 26 26 26 26 26 \n",
      "26 26 26 26 26 26 26 26 26 26 26 26 \n",
      "26 26 26 26 26 26 26 26 26 26 26 26 26 \n",
      "26 26 26 26 26 26 26 26 26 26 26 26 26 26 \n",
      "26 26 26 26 26 26 26 26 26 26 26 26 26 26 26 \n",
      "26 26 26 26 26 26 26 26 26 26 26 26 26 26 26 26 \n",
      "26 26 26 26 26 26 26 26 26 26 26 26 26 26 26 26 26 \n",
      "26 26 26 26 26 26 26 26 26 26 26 26 26 26 26 26 26 26 \n",
      "26 26 26 26 26 26 26 26 26 26 26 26 26 26 26 26 26 26 26 \n",
      "26 26 26 26 26 26 26 26 26 26 26 26 26 26 26 26 26 26 26 26 \n",
      "26 26 26 26 26 26 26 26 26 26 26 26 26 26 26 26 26 26 26 26 26 \n",
      "26 26 26 26 26 26 26 26 26 26 26 26 26 26 26 26 26 26 26 26 26 26 \n",
      "26 26 26 26 26 26 26 26 26 26 26 26 26 26 26 26 26 26 26 26 26 26 26 \n",
      "26 26 26 26 26 26 26 26 26 26 26 26 26 26 26 26 26 26 26 26 26 26 26 26 \n"
     ]
    }
   ],
   "source": [
    "n=25\n",
    "for i in range(n):\n",
    "    for j in range(i):\n",
    "        print(n+1,end=' ')\n",
    "    print()"
   ]
  },
  {
   "cell_type": "code",
   "execution_count": 38,
   "id": "cf9fc2fd-fefd-4bca-9e72-945e0dc8bd3b",
   "metadata": {},
   "outputs": [
    {
     "name": "stdout",
     "output_type": "stream",
     "text": [
      "1 \n"
     ]
    }
   ],
   "source": [
    "r=8\n",
    "n=1\n",
    "for i in range(1,n+1):\n",
    "    for j in range(i):\n",
    "        print(n, end=' ')\n",
    "        n+=1\n",
    "    print()"
   ]
  },
  {
   "cell_type": "code",
   "execution_count": null,
   "id": "e6a0c827-b2c9-4a77-b057-0cfbccee3013",
   "metadata": {},
   "outputs": [],
   "source": []
  }
 ],
 "metadata": {
  "kernelspec": {
   "display_name": "Python 3 (ipykernel)",
   "language": "python",
   "name": "python3"
  },
  "language_info": {
   "codemirror_mode": {
    "name": "ipython",
    "version": 3
   },
   "file_extension": ".py",
   "mimetype": "text/x-python",
   "name": "python",
   "nbconvert_exporter": "python",
   "pygments_lexer": "ipython3",
   "version": "3.12.7"
  }
 },
 "nbformat": 4,
 "nbformat_minor": 5
}

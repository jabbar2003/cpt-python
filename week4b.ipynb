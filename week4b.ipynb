{
 "cells": [
  {
   "cell_type": "code",
   "execution_count": 1,
   "id": "d1f1890a-6d1d-4325-8fea-5b9d4e31a9c4",
   "metadata": {},
   "outputs": [
    {
     "name": "stdout",
     "output_type": "stream",
     "text": [
      "even mutable list: [32, 54]\n",
      "odd mutable list: [21, 43, 65]\n"
     ]
    }
   ],
   "source": [
    "'''mutable type attributes code to illustrate multiple attribute by calling a class \n",
    "for its specificatios for example n=21,32,43,54,65\n",
    "even list :[32,54]\n",
    "odd list :[21,43,65]'''\n",
    "class number:\n",
    "    evens=[]\n",
    "    odds=[]\n",
    "    def __init__(self,num):\n",
    "        self.num=num\n",
    "        if num%2 == 0:\n",
    "            number.evens.append(num)\n",
    "        else:\n",
    "            number.odds.append(num)\n",
    "n1=number(21)\n",
    "n2=number(32)\n",
    "n3=number(43)\n",
    "n4=number(54)\n",
    "n5=number(65)\n",
    "print(\"Even mutable list:\",number.evens)\n",
    "print(\"Odd mutable list:\",number.odds)\n"
   ]
  },
  {
   "cell_type": "code",
   "execution_count": 5,
   "id": "7156896e-59d4-4c78-b0aa-ebaf01f239fa",
   "metadata": {},
   "outputs": [
    {
     "name": "stdout",
     "output_type": "stream",
     "text": [
      "even list [54]\n",
      "odd list [27, 65, 67, 89]\n"
     ]
    }
   ],
   "source": [
    "class number:\n",
    "    even=[]\n",
    "    odd=[]\n",
    "    def __init__(self,n):\n",
    "        self.n=n\n",
    "        if n%2==0:\n",
    "            number.even.append(n)\n",
    "        else:\n",
    "            number.odd.append(n)\n",
    "a1=number(27)\n",
    "a2=number(54)\n",
    "a3=number(65)\n",
    "a4=number(67)\n",
    "a5=number(89)\n",
    "print(\"even list\",number.even)\n",
    "print(\"odd list\",number.odd)"
   ]
  },
  {
   "cell_type": "code",
   "execution_count": 47,
   "id": "dd32875c-4baf-4b70-98dc-63f06a420f72",
   "metadata": {},
   "outputs": [
    {
     "name": "stdin",
     "output_type": "stream",
     "text": [
      "enter a even 44\n",
      "enter a odd 33\n",
      "enter a even 66\n",
      "enter a odd 55\n",
      "enter a even 88\n"
     ]
    },
    {
     "name": "stdout",
     "output_type": "stream",
     "text": [
      "even list [44, 66, 88]\n",
      "odd list [33, 55]\n"
     ]
    }
   ],
   "source": [
    "class number:\n",
    "    even=[]\n",
    "    odd=[]\n",
    "    def __init__(self,f):\n",
    "        self.f=f\n",
    "        if f%2==0:\n",
    "            number.even.append(f)\n",
    "        else:\n",
    "            number.odd.append(f)\n",
    "a=int(input(\"enter a even\"))            \n",
    "n1=number(a)\n",
    "b=int(input(\"enter a odd\"))\n",
    "n2=number(b)\n",
    "c=int(input(\"enter a even\"))\n",
    "n3=number(c)\n",
    "d=int(input(\"enter a odd\"))\n",
    "n4=number(d)\n",
    "e=int(input(\"enter a even\"))\n",
    "n5=number(e)\n",
    "print(\"even list\",number.even)\n",
    "print(\"odd list\",number.odd)"
   ]
  },
  {
   "cell_type": "code",
   "execution_count": 19,
   "id": "aca05d7f-05a1-4dd7-9f23-e0b4a0558230",
   "metadata": {},
   "outputs": [
    {
     "name": "stdin",
     "output_type": "stream",
     "text": [
      "enter the value : 3\n"
     ]
    },
    {
     "name": "stdout",
     "output_type": "stream",
     "text": [
      "given value: 3\n",
      "given value: 27\n"
     ]
    }
   ],
   "source": [
    "def op(x):\n",
    "    return x**3\n",
    "class abc():\n",
    "    def __init__(self,val):\n",
    "        self.val=val\n",
    "    def display(self):\n",
    "        print(\"given value:\",self.val)\n",
    "    def modify(self):\n",
    "        self.val=op(self.val)\n",
    "n=int(input(\"enter the value :\"))        \n",
    "o=abc(n)\n",
    "o.display()\n",
    "o.modify()\n",
    "o.display()"
   ]
  },
  {
   "cell_type": "code",
   "execution_count": 29,
   "id": "a4699c20-3e36-45bc-ad1e-c02425851cff",
   "metadata": {},
   "outputs": [
    {
     "name": "stdin",
     "output_type": "stream",
     "text": [
      "enter n1: 11\n",
      "enter n2: 11.22\n"
     ]
    },
    {
     "name": "stdout",
     "output_type": "stream",
     "text": [
      "object.__dict__- {'var1': 11, 'var2': 11.22}\n",
      "Object.__doc__- None\n",
      "class.__name__- abc\n",
      "object.__module__- __main__\n",
      "class.__base__- (<class 'object'>,)\n"
     ]
    }
   ],
   "source": [
    "# built in attribute .py\n",
    "class abc():\n",
    "    def __init__(self,var1,var2):\n",
    "        self.var1=var1\n",
    "        self.var2=var2\n",
    "    def display(self):\n",
    "        print(\"var1:\",self.var1)\n",
    "        print(\"var2:\",self.var2)\n",
    "\n",
    "n1=int(input(\"enter n1:\"))\n",
    "n2=float(input(\"enter n2:\"))\n",
    "o=abc(n1,n2)\n",
    "print(\"object.__dict__-\",o.__dict__)\n",
    "print(\"Object.__doc__-\",o.__doc__)\n",
    "print(\"class.__name__-\",abc.__name__)\n",
    "print(\"object.__module__-\",o.__module__)\n",
    "print(\"class.__base__-\",abc.__bases__)"
   ]
  },
  {
   "cell_type": "code",
   "execution_count": 41,
   "id": "7c6ce700-3c9c-400a-b38f-d50aa0335da2",
   "metadata": {},
   "outputs": [
    {
     "name": "stdin",
     "output_type": "stream",
     "text": [
      "enter n1: 1\n",
      "enter n2: 2\n"
     ]
    },
    {
     "name": "stdout",
     "output_type": "stream",
     "text": [
      "var1: 1\n",
      "var2: 2\n"
     ]
    }
   ],
   "source": [
    "# built in attribute .py\n",
    "class abc():\n",
    "    def __init__(self,var1,var2):\n",
    "        self.var1=var1\n",
    "        self.var2=var2\n",
    "    def display(self):\n",
    "        print(\"var1:\",self.var1)\n",
    "        print(\"var2:\",self.var2)\n",
    "\n",
    "n1=input(\"enter n1:\")\n",
    "n2=input(\"enter n2:\")\n",
    "o=abc(n1,n2)\n",
    "o.display()\n",
    "#print(\"object.__dict__-\",o.__dict__)\n",
    "#print(\"Object.__doc__-\",o.__doc__)\n",
    "#print(\"class.__name__-\",abc.__name__)\n",
    "#print(\"object.__module__-\",o.__module__)\n",
    "#print(\"class.__base__-\",abc.__bases__)"
   ]
  },
  {
   "cell_type": "code",
   "execution_count": 49,
   "id": "1f5bcfb8-dd26-4897-8f01-e28315777426",
   "metadata": {},
   "outputs": [
    {
     "name": "stdout",
     "output_type": "stream",
     "text": [
      "<class 'type'>\n",
      "1704\n",
      "48\n"
     ]
    }
   ],
   "source": [
    "'''write a code to view the memory info in a class, which gives the \n",
    "type of the class, size of the class object, and size of instance\n",
    "const:use package-sys for size of\n",
    "given value of num=10'''\n",
    "import sys\n",
    "class A:\n",
    "    num=10\n",
    "a=A()\n",
    "print(type(A))\n",
    "print(sys.getsizeof(A))\n",
    "print(sys.getsizeof(a))\n",
    "    "
   ]
  },
  {
   "cell_type": "code",
   "execution_count": 53,
   "id": "ff173a55-b450-4035-b247-bda3b0812194",
   "metadata": {},
   "outputs": [
    {
     "name": "stdin",
     "output_type": "stream",
     "text": [
      "enter the 4-digit pin: 1223\n"
     ]
    },
    {
     "name": "stdout",
     "output_type": "stream",
     "text": [
      "pin Incorrect\n"
     ]
    }
   ],
   "source": [
    "'''create a class atm and check the pin user1234 define\n",
    "a function to withdraw 2000/- , balance amount from\n",
    "account 5999, if the amount is over the balance exit and check the\n",
    "for accessing the account...'''\n",
    "class ATM:\n",
    "    def __init__(self):\n",
    "        self.balance=5000\n",
    "        self.pin=\"1234\"\n",
    "    def process(self):\n",
    "        user_pin=input(\"enter the 4-digit pin:\")\n",
    "        if user_pin==self.pin:\n",
    "            amount=int(input(\"enter amount to debit:\"))\n",
    "            if amount<=self.balance:\n",
    "                self.balance-=amount\n",
    "                print(f\"{amount} debited. remaining balance rs.{self.balance}\")\n",
    "            else:\n",
    "                print(\"Insufficent funds!!!!.Transaction cancelled.\")\n",
    "        else:\n",
    "            print(\"pin Incorrect\")\n",
    "atm=ATM()\n",
    "atm.process()"
   ]
  },
  {
   "cell_type": "code",
   "execution_count": 55,
   "id": "acc288c3-9a2b-4930-8575-135b9d078f8e",
   "metadata": {},
   "outputs": [
    {
     "name": "stdin",
     "output_type": "stream",
     "text": [
      "enter the 4-digit pin: 1234\n",
      "enter amount to debit: 7000\n"
     ]
    },
    {
     "name": "stdout",
     "output_type": "stream",
     "text": [
      "Insufficent funds!!!!.Transaction cancelled.\n"
     ]
    }
   ],
   "source": [
    "'''create a class atm and check the pin user1234 define\n",
    "a function to withdraw 2000/- , balance amount from\n",
    "account 5999, if the amount is over the balance exit and check the\n",
    "for accessing the account...'''\n",
    "class ATM:\n",
    "    def __init__(self):\n",
    "        self.balance=5000\n",
    "        self.pin=\"1234\"\n",
    "    def process(self):\n",
    "        user_pin=input(\"enter the 4-digit pin:\")\n",
    "        if user_pin==self.pin:\n",
    "            amount=int(input(\"enter amount to debit:\"))\n",
    "            if amount<=self.balance:\n",
    "                self.balance-=amount\n",
    "                print(f\"{amount} debited. remaining balance rs.{self.balance}\")\n",
    "            else:\n",
    "                print(\"Insufficent funds!!!!.Transaction cancelled.\")\n",
    "        else:\n",
    "            print(\"pin Incorrect\")\n",
    "atm=ATM()\n",
    "atm.process()"
   ]
  },
  {
   "cell_type": "code",
   "execution_count": 57,
   "id": "9bd50ce7-063f-4d69-8ceb-880d77ef1581",
   "metadata": {},
   "outputs": [
    {
     "name": "stdin",
     "output_type": "stream",
     "text": [
      "enter the 4-digit pin: 1234\n",
      "enter amount to debit: 2000\n"
     ]
    },
    {
     "name": "stdout",
     "output_type": "stream",
     "text": [
      "2000 debited. remaining balance rs.3000\n"
     ]
    }
   ],
   "source": [
    "'''create a class atm and check the pin user1234 define\n",
    "a function to withdraw 2000/- , balance amount from\n",
    "account 5999, if the amount is over the balance exit and check the\n",
    "for accessing the account...'''\n",
    "class ATM:\n",
    "    def __init__(self):\n",
    "        self.balance=5000\n",
    "        self.pin=\"1234\"\n",
    "    def process(self):\n",
    "        user_pin=input(\"enter the 4-digit pin:\")\n",
    "        if user_pin==self.pin:\n",
    "            amount=int(input(\"enter amount to debit:\"))\n",
    "            if amount<=self.balance:\n",
    "                self.balance-=amount\n",
    "                print(f\"{amount} debited. remaining balance rs.{self.balance}\")\n",
    "            else:\n",
    "                print(\"Insufficent funds!!!!.Transaction cancelled.\")\n",
    "        else:\n",
    "            print(\"pin Incorrect\")\n",
    "atm=ATM()\n",
    "atm.process()"
   ]
  },
  {
   "cell_type": "code",
   "execution_count": null,
   "id": "bcc4a3ca-0340-4673-bcd2-c7908bb21ead",
   "metadata": {},
   "outputs": [],
   "source": []
  }
 ],
 "metadata": {
  "kernelspec": {
   "display_name": "Python 3 (ipykernel)",
   "language": "python",
   "name": "python3"
  },
  "language_info": {
   "codemirror_mode": {
    "name": "ipython",
    "version": 3
   },
   "file_extension": ".py",
   "mimetype": "text/x-python",
   "name": "python",
   "nbconvert_exporter": "python",
   "pygments_lexer": "ipython3",
   "version": "3.12.7"
  }
 },
 "nbformat": 4,
 "nbformat_minor": 5
}

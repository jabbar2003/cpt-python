{
 "cells": [
  {
   "cell_type": "code",
   "execution_count": 5,
   "id": "518d961d-1c8e-4ae5-829b-bab875d156c7",
   "metadata": {},
   "outputs": [
    {
     "name": "stdin",
     "output_type": "stream",
     "text": [
      "Enter Num: 4\n"
     ]
    },
    {
     "name": "stdout",
     "output_type": "stream",
     "text": [
      "Not Valid\n"
     ]
    }
   ],
   "source": [
    "a=int(input(\"Enter Num:\"))\n",
    "if a>18:\n",
    "    print(\"Valid\")\n",
    "else:\n",
    "    print(\"Not Valid\")"
   ]
  },
  {
   "cell_type": "code",
   "execution_count": 13,
   "id": "9de4034e-a110-4c2e-9394-e0e33825eeab",
   "metadata": {},
   "outputs": [
    {
     "name": "stdin",
     "output_type": "stream",
     "text": [
      "Press any Key 41\n"
     ]
    },
    {
     "name": "stdout",
     "output_type": "stream",
     "text": [
      "41 Number\n"
     ]
    }
   ],
   "source": [
    "c=input(\"Press any Key\")\n",
    "if c.isalpha():\n",
    "    print(c,\"Alphabet\")\n",
    "if c.isdigit():\n",
    "    print(c,\"Number\")\n",
    "if c.isspace():\n",
    "    print(c,\"Space\")\n",
    "    "
   ]
  },
  {
   "cell_type": "code",
   "execution_count": 21,
   "id": "b0365998-356d-448a-99bb-9d6a5a752d9b",
   "metadata": {},
   "outputs": [
    {
     "name": "stdin",
     "output_type": "stream",
     "text": [
      "Enter the num: 5\n"
     ]
    },
    {
     "name": "stdout",
     "output_type": "stream",
     "text": [
      "5 positive\n"
     ]
    }
   ],
   "source": [
    "n=int(input(\"Enter the num:\"))\n",
    "if n>0:\n",
    "      print(n,\"positive\")\n",
    "if n<0:\n",
    "      print(n,\"Negative\")\n",
    "if n==0:\n",
    "      print(n,\"Equal\")\n",
    "      \n",
    "      "
   ]
  },
  {
   "cell_type": "code",
   "execution_count": 27,
   "id": "62489483-0ea1-4192-aede-6550bd3387d3",
   "metadata": {},
   "outputs": [
    {
     "name": "stdin",
     "output_type": "stream",
     "text": [
      "Enter the value of n 10\n"
     ]
    },
    {
     "name": "stdout",
     "output_type": "stream",
     "text": [
      "0 2 4 6 8 10 "
     ]
    }
   ],
   "source": [
    "n=int(input(\"Enter the value of n\"))\n",
    "i=0\n",
    "while i<=n:\n",
    "    if i%2==0:\n",
    "        print(i,end=' ')\n",
    "    i+=1"
   ]
  },
  {
   "cell_type": "code",
   "execution_count": 31,
   "id": "24209a37-7dc4-48a2-a5cf-9f5fcb5b3c42",
   "metadata": {},
   "outputs": [
    {
     "name": "stdin",
     "output_type": "stream",
     "text": [
      "Enter the number 3\n"
     ]
    },
    {
     "name": "stdout",
     "output_type": "stream",
     "text": [
      "Number is ODD\n"
     ]
    }
   ],
   "source": [
    "n=int(input(\"Enter the number\"))\n",
    "if n%2==0:\n",
    "    print(\"Number is EVEN\")\n",
    "else:\n",
    "    print(\"Number is ODD\")"
   ]
  },
  {
   "cell_type": "code",
   "execution_count": 35,
   "id": "98554bfc-a30c-404c-8281-8bc1c27bb2f9",
   "metadata": {},
   "outputs": [
    {
     "name": "stdout",
     "output_type": "stream",
     "text": [
      "Enter -1 to Exit!!!\n"
     ]
    },
    {
     "name": "stdin",
     "output_type": "stream",
     "text": [
      "Enter any Number: 1\n",
      "Enter any Number: 2\n",
      "Enter any Number: 3\n",
      "Enter any Number: -2\n",
      "Enter any Number: -3\n",
      "Enter any Number: -4\n",
      "Enter any Number: 0\n",
      "Enter any Number: -1\n"
     ]
    },
    {
     "name": "stdout",
     "output_type": "stream",
     "text": [
      "Count the positives entered: 3\n",
      "Count the Negatives entered: 3\n",
      "Count the Zeroes entered: 1\n"
     ]
    }
   ],
   "source": [
    "n=p=z=0\n",
    "print(\"Enter -1 to Exit!!!\")\n",
    "while(1):\n",
    "    num=int(input(\"Enter any Number:\"))\n",
    "    if num==-1:\n",
    "        break\n",
    "    if num==0:\n",
    "        z+=1\n",
    "    elif num>0:\n",
    "        p+=1\n",
    "    else:\n",
    "        n+=1\n",
    "print(\"Count the positives entered:\",p)\n",
    "print(\"Count the Negatives entered:\",n)\n",
    "print(\"Count the Zeroes entered:\",z)"
   ]
  },
  {
   "cell_type": "code",
   "execution_count": 3,
   "id": "add8c85c-f781-4cef-ab76-b55b58dbb98b",
   "metadata": {},
   "outputs": [
    {
     "name": "stdin",
     "output_type": "stream",
     "text": [
      "Enter a Binary number: 1101\n"
     ]
    },
    {
     "name": "stdout",
     "output_type": "stream",
     "text": [
      "Decimal Equivalent: 13\n"
     ]
    }
   ],
   "source": [
    "bnum=int(input(\"Enter a Binary number:\"))\n",
    "dnum=i=0\n",
    "while bnum!=0:\n",
    "    r= bnum%10\n",
    "    dnum=dnum+r*(2**i)\n",
    "    bnum//=10\n",
    "    i+=1\n",
    "print(\"Decimal Equivalent:\",dnum)"
   ]
  },
  {
   "cell_type": "code",
   "execution_count": null,
   "id": "8d14a4af-94ac-4005-8ce5-07b6b04bb53e",
   "metadata": {},
   "outputs": [],
   "source": []
  }
 ],
 "metadata": {
  "kernelspec": {
   "display_name": "Python 3 (ipykernel)",
   "language": "python",
   "name": "python3"
  },
  "language_info": {
   "codemirror_mode": {
    "name": "ipython",
    "version": 3
   },
   "file_extension": ".py",
   "mimetype": "text/x-python",
   "name": "python",
   "nbconvert_exporter": "python",
   "pygments_lexer": "ipython3",
   "version": "3.12.7"
  }
 },
 "nbformat": 4,
 "nbformat_minor": 5
}

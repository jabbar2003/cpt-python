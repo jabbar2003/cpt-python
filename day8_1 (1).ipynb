{
 "cells": [
  {
   "cell_type": "code",
   "execution_count": 1,
   "id": "e1ec37dd-29b9-4e18-8787-3ef0fc0bd1b2",
   "metadata": {},
   "outputs": [
    {
     "name": "stdout",
     "output_type": "stream",
     "text": [
      "Hello Rishi\n"
     ]
    }
   ],
   "source": [
    "def hi(name):\n",
    "    print(\"Hello\",name)\n",
    "hi(\"Rishi\")"
   ]
  },
  {
   "cell_type": "code",
   "execution_count": 5,
   "id": "49812daf-660a-486f-8c8d-e4f12c2cfdb2",
   "metadata": {},
   "outputs": [
    {
     "name": "stdin",
     "output_type": "stream",
     "text": [
      "Enter x: 5\n",
      "Enter y: 5\n"
     ]
    },
    {
     "name": "stdout",
     "output_type": "stream",
     "text": [
      "10\n"
     ]
    }
   ],
   "source": [
    "#func with return values\n",
    "def add(a,b):\n",
    "    return a+b\n",
    "x=int(input(\"Enter x:\"))\n",
    "y=int(input(\"Enter y:\"))\n",
    "print(add(x,y))\n"
   ]
  },
  {
   "cell_type": "code",
   "execution_count": 17,
   "id": "ba286787-b391-4394-9c87-faeefae0c37f",
   "metadata": {},
   "outputs": [
    {
     "name": "stdout",
     "output_type": "stream",
     "text": [
      "Hello Rishi\n",
      "Hello Vijay\n"
     ]
    }
   ],
   "source": [
    "#default parameters/ func occupied parameters \n",
    "def hi(name=\"Rishi\"):\n",
    "    print(\"Hello\",name)\n",
    "hi()\n",
    "hi(\"Vijay\")\n",
    "    "
   ]
  },
  {
   "cell_type": "code",
   "execution_count": 1,
   "id": "612b5d48-7a0e-4fc1-8fe4-461d2af1a401",
   "metadata": {},
   "outputs": [
    {
     "name": "stdin",
     "output_type": "stream",
     "text": [
      " 5\n",
      " 2\n"
     ]
    },
    {
     "name": "stdout",
     "output_type": "stream",
     "text": [
      "tot: 7 diff: 3 mul: 10\n"
     ]
    }
   ],
   "source": [
    "def a(x,y):\n",
    "    return x+y, x-y, x*y\n",
    "p=int(input())\n",
    "q=int(input())\n",
    "tot,diff,mul=a(p,q)\n",
    "print(\"tot:\",tot,\"diff:\",diff,\"mul:\",mul)"
   ]
  },
  {
   "cell_type": "code",
   "execution_count": null,
   "id": "98e58754-2fd0-435e-9470-67d48bf323d5",
   "metadata": {},
   "outputs": [],
   "source": []
  }
 ],
 "metadata": {
  "kernelspec": {
   "display_name": "Python 3 (ipykernel)",
   "language": "python",
   "name": "python3"
  },
  "language_info": {
   "codemirror_mode": {
    "name": "ipython",
    "version": 3
   },
   "file_extension": ".py",
   "mimetype": "text/x-python",
   "name": "python",
   "nbconvert_exporter": "python",
   "pygments_lexer": "ipython3",
   "version": "3.12.7"
  }
 },
 "nbformat": 4,
 "nbformat_minor": 5
}

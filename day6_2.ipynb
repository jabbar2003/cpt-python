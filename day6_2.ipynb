{
 "cells": [
  {
   "cell_type": "code",
   "execution_count": 1,
   "id": "f340abe9-5655-484f-ac8b-54d0bbe9ca5b",
   "metadata": {},
   "outputs": [
    {
     "name": "stdin",
     "output_type": "stream",
     "text": [
      " 1900\n",
      " 2100\n"
     ]
    },
    {
     "name": "stdout",
     "output_type": "stream",
     "text": [
      "1900 1904 1908 1912 1916 1920 1924 1928 1932 1936 1940 1944 1948 1952 1956 1960 1964 1968 1972 1976 1980 1984 1988 1992 1996 2000 2004 2008 2012 2016 2020 2024 2028 2032 2036 2040 2044 2048 2052 2056 2060 2064 2068 2072 2076 2080 2084 2088 2092 2096 2100 "
     ]
    }
   ],
   "source": [
    "a=int(input())\n",
    "b=int(input())\n",
    "for i in range(a,b+1):\n",
    "    if i%4==0:\n",
    "        print(i,end=' ')"
   ]
  },
  {
   "cell_type": "code",
   "execution_count": 5,
   "id": "a7c8e3a1-28d2-4f86-9982-21640445401d",
   "metadata": {},
   "outputs": [
    {
     "name": "stdin",
     "output_type": "stream",
     "text": [
      "Enter the valueof n: 1\n"
     ]
    },
    {
     "name": "stdout",
     "output_type": "stream",
     "text": [
      "1.0\n"
     ]
    }
   ],
   "source": [
    "num= int(input(\"Enter the valueof n:\"))\n",
    "s=0.0\n",
    "for i in range(1,num+1):\n",
    "    a=1.0/(i**2)\n",
    "    s=s+a\n",
    "print(a)"
   ]
  },
  {
   "cell_type": "code",
   "execution_count": 49,
   "id": "949f8e8a-706f-4824-9830-4d95bb87da58",
   "metadata": {},
   "outputs": [
    {
     "name": "stdin",
     "output_type": "stream",
     "text": [
      "Enter the start day of the month(1-7)  2\n",
      "Enter the number of days 31\n"
     ]
    },
    {
     "name": "stdout",
     "output_type": "stream",
     "text": [
      "SUN MON TUE WED THU FRI SAT\n",
      "-----------------------------\n",
      "     1   2   3   4   5   6   \n",
      "7   8   9   10   11   12   13   \n",
      "14   15   16   17   18   19   20   \n",
      "21   22   23   24   25   26   27   \n",
      "28   29   30   31   "
     ]
    }
   ],
   "source": [
    "n=int(input(\"Enter the start day of the month(1-7) \"))\n",
    "p=int(input(\"Enter the number of days\"))\n",
    "print(\"SUN MON TUE WED THU FRI SAT\")\n",
    "print(\"-----------------------------\")\n",
    "for i in range(n-1):\n",
    "    print(end='     ')\n",
    "i= n-1\n",
    "for j in range(1,p+1):\n",
    "    if i>6:\n",
    "        print()\n",
    "        i=1\n",
    "    else:\n",
    "        i+=1\n",
    "    print(str(j)+\" \",end='  ')"
   ]
  },
  {
   "cell_type": "code",
   "execution_count": null,
   "id": "d70c9025-6f44-4394-a603-7fd1bc718012",
   "metadata": {},
   "outputs": [],
   "source": []
  }
 ],
 "metadata": {
  "kernelspec": {
   "display_name": "Python 3 (ipykernel)",
   "language": "python",
   "name": "python3"
  },
  "language_info": {
   "codemirror_mode": {
    "name": "ipython",
    "version": 3
   },
   "file_extension": ".py",
   "mimetype": "text/x-python",
   "name": "python",
   "nbconvert_exporter": "python",
   "pygments_lexer": "ipython3",
   "version": "3.12.7"
  }
 },
 "nbformat": 4,
 "nbformat_minor": 5
}

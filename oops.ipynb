{
 "cells": [
  {
   "cell_type": "code",
   "execution_count": 3,
   "id": "c4cf7e91-89dc-46cf-a9c7-9c862616eaf0",
   "metadata": {},
   "outputs": [
    {
     "ename": "SyntaxError",
     "evalue": "invalid syntax (1661067874.py, line 1)",
     "output_type": "error",
     "traceback": [
      "\u001b[1;36m  Cell \u001b[1;32mIn[3], line 1\u001b[1;36m\u001b[0m\n\u001b[1;33m    __del__():\u001b[0m\n\u001b[1;37m             ^\u001b[0m\n\u001b[1;31mSyntaxError\u001b[0m\u001b[1;31m:\u001b[0m invalid syntax\n"
     ]
    }
   ],
   "source": [
    "__del__():\n",
    "const:\n",
    "class abc():\n",
    "    def __init__(self, v1, v2...):\n",
    "        self.v1=v1\n",
    "\n",
    "    def __del__(self):\n",
    "        abc.v1"
   ]
  },
  {
   "cell_type": "code",
   "execution_count": 25,
   "id": "53c954c0-dcb7-499b-8dab-a2e1701b2c81",
   "metadata": {},
   "outputs": [
    {
     "name": "stdout",
     "output_type": "stream",
     "text": [
      "Class variable 0\n",
      "Object variable: 11\n",
      "Class variable 10\n",
      "Object variable: 12\n",
      "Class variable 20\n",
      "Object variable: 13\n",
      "Class variable 30\n",
      "obj variable with 11 deleted\n",
      "obj variable with 12 deleted\n",
      "obj variable with 13 deleted\n"
     ]
    }
   ],
   "source": [
    "'''del method/class variable with const access'''\n",
    "class abc():\n",
    "    class_var=0\n",
    "    print(\"Class variable\",class_var)\n",
    "    def __init__(self,var):\n",
    "        abc.class_var +=10\n",
    "        self.var=var\n",
    "        print(\"Object variable:\", var)\n",
    "        print(\"Class variable\",abc.class_var)\n",
    "    def __del__(self):  \n",
    "        abc.class_var-=1\n",
    "        print(\"obj variable with %d deleted\" % self.var)\n",
    "obj1=abc(11)\n",
    "obj2=abc(12)\n",
    "obj3=abc(13)\n",
    "del obj1\n",
    "del obj2\n",
    "del obj3"
   ]
  },
  {
   "cell_type": "code",
   "execution_count": 3,
   "id": "a28ebea4-81bd-43c5-b3e6-ec64703f37d9",
   "metadata": {},
   "outputs": [
    {
     "name": "stdin",
     "output_type": "stream",
     "text": [
      "enter the value of a: 2\n",
      "enter the value of b: 6\n"
     ]
    },
    {
     "name": "stdout",
     "output_type": "stream",
     "text": [
      "calc object created...\n",
      "Addition: 8\n",
      "subtract: -4\n"
     ]
    }
   ],
   "source": [
    "class calc:\n",
    "    def __init__(self,a,b):\n",
    "        self.a=a\n",
    "        self.b=b\n",
    "        print(\"calc object created...\")\n",
    "    def add(self):\n",
    "        return self.a+self.b\n",
    "    def sub(self):\n",
    "        return self.a-self.b\n",
    "    def __del__(self):\n",
    "        print(\"creted calc obj was deleted... \")\n",
    "a=int(input(\"enter the value of a:\"))\n",
    "b=int(input(\"enter the value of b:\"))\n",
    "c=calc(a,b)\n",
    "print(\"Addition:\",c.add())\n",
    "print(\"subtract:\",c.sub())\n"
   ]
  },
  {
   "cell_type": "code",
   "execution_count": 6,
   "id": "ee9ee176-86fc-4624-ac6c-ecee079ba404",
   "metadata": {},
   "outputs": [
    {
     "name": "stdin",
     "output_type": "stream",
     "text": [
      "enter the radius: 4\n"
     ]
    },
    {
     "name": "stdout",
     "output_type": "stream",
     "text": [
      "calc object created...\n",
      "creted calc obj was deleted... \n",
      "Area: 50.26548245743669\n",
      "circumference: 25.132741228718345\n"
     ]
    }
   ],
   "source": [
    "'''code to calc area and circumference of a circle by using a class rectangle , create a constructor and seperate\n",
    "functions for area circ and delete the constructor , import math pi value'''\n",
    "import math \n",
    "class circle:\n",
    "    def __init__(self,a,b):\n",
    "        self.a=a\n",
    "        self.b=b\n",
    "        print(\"calc object created...\")\n",
    "    def area(self):\n",
    "        return self.a**2*self.b\n",
    "    def circumference(self):\n",
    "        return 2*self.b*self.a\n",
    "    def __del__(self):\n",
    "        print(\"creted calc obj was deleted... \")\n",
    "a=int(input(\"enter the radius:\"))\n",
    "b=math.pi\n",
    "c=circle(a,b)\n",
    "print(\"Area:\",c.area())\n",
    "print(\"circumference:\",c.circumference())\n",
    "del circle\n"
   ]
  },
  {
   "cell_type": "code",
   "execution_count": null,
   "id": "9cad3d8b-8851-4903-be3b-8e251eb68fab",
   "metadata": {},
   "outputs": [],
   "source": [
    "'''\n",
    "special methods\n",
    "__cmp__()-> objects comparision\n",
    "__len__()-> len(oblects)\n",
    "__repr__()-> str representation\n",
    "__call__()-> n args"
   ]
  },
  {
   "cell_type": "code",
   "execution_count": 3,
   "id": "aa88f7a0-fe0e-4d5c-a036-deeda8ae33ff",
   "metadata": {},
   "outputs": [
    {
     "name": "stdout",
     "output_type": "stream",
     "text": [
      "sum of row 0: 3\n",
      "sum of row 2: 11\n",
      "new sum of row 1: 30\n"
     ]
    }
   ],
   "source": [
    "#math evalution on get item set item\n",
    "''' code to ad the sum of rowin a 2-d list '''\n",
    "class RowSum:\n",
    "    def __init__(self,matrix):\n",
    "        self.matrix=matrix\n",
    "    def __getitem__(self,row):\n",
    "        return sum(self.matrix[row])\n",
    "    def __setitem__(self,row,new_row):\n",
    "        self.matrix[row]=new_row\n",
    "        \n",
    "m=RowSum([[1,2],[3,4],[5,6]])\n",
    "# sum of 0 index row values =3\n",
    "#sum of 1 index row values =11\n",
    "print(\"sum of row 0:\",m[0])\n",
    "print(\"sum of row 2:\",m[2])\n",
    "m[1]=[10,20]\n",
    "#sum of 1 index row values, which are new=30\n",
    "print(\"new sum of row 1:\",m[1])\n"
   ]
  },
  {
   "cell_type": "code",
   "execution_count": null,
   "id": "bd9462c1-a81f-459e-b328-b752bad9a8f2",
   "metadata": {},
   "outputs": [],
   "source": []
  }
 ],
 "metadata": {
  "kernelspec": {
   "display_name": "Python 3 (ipykernel)",
   "language": "python",
   "name": "python3"
  },
  "language_info": {
   "codemirror_mode": {
    "name": "ipython",
    "version": 3
   },
   "file_extension": ".py",
   "mimetype": "text/x-python",
   "name": "python",
   "nbconvert_exporter": "python",
   "pygments_lexer": "ipython3",
   "version": "3.12.7"
  }
 },
 "nbformat": 4,
 "nbformat_minor": 5
}

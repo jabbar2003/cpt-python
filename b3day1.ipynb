{
 "cells": [
  {
   "cell_type": "code",
   "execution_count": 1,
   "id": "e5bb97a1-1889-426a-a6cd-74bcce84804d",
   "metadata": {},
   "outputs": [
    {
     "name": "stdout",
     "output_type": "stream",
     "text": [
      "HI JABBAR\n"
     ]
    }
   ],
   "source": [
    "def hi():\n",
    "    print(\"HI JABBAR\")\n",
    "hi()"
   ]
  },
  {
   "cell_type": "code",
   "execution_count": 3,
   "id": "82db83ed-59f2-4daa-9669-dd889b60ad1b",
   "metadata": {},
   "outputs": [
    {
     "name": "stdin",
     "output_type": "stream",
     "text": [
      " 5\n",
      " 5\n"
     ]
    },
    {
     "name": "stdout",
     "output_type": "stream",
     "text": [
      "10\n"
     ]
    }
   ],
   "source": [
    "def add(x,y):\n",
    "    c=x+y\n",
    "    print(c)\n",
    "a=int(input())\n",
    "b=int(input())\n",
    "add(a,b)"
   ]
  },
  {
   "cell_type": "code",
   "execution_count": 5,
   "id": "afc8e7b2-c860-4a8e-963d-763ffb40a6ef",
   "metadata": {},
   "outputs": [
    {
     "name": "stdin",
     "output_type": "stream",
     "text": [
      " 5\n",
      " 5\n"
     ]
    },
    {
     "name": "stdout",
     "output_type": "stream",
     "text": [
      "10\n"
     ]
    }
   ],
   "source": [
    "def add(x,y):\n",
    "    return x+y\n",
    "a=int(input())\n",
    "b=int(input())\n",
    "print(add(a,b))"
   ]
  },
  {
   "cell_type": "code",
   "execution_count": 11,
   "id": "39256491-412d-4c42-9f3c-96a1faa14cf3",
   "metadata": {},
   "outputs": [
    {
     "name": "stdin",
     "output_type": "stream",
     "text": [
      "Enter the number: 2\n",
      "Enter the power of the number: 4\n"
     ]
    },
    {
     "name": "stdout",
     "output_type": "stream",
     "text": [
      "the final answer is 16\n"
     ]
    }
   ],
   "source": [
    "def pow(a,b):\n",
    "    return a**b\n",
    "x=int(input(\"Enter the number:\"))\n",
    "y=int(input(\"Enter the power of the number:\"))\n",
    "print(\"the final answer is\",pow(x,y))"
   ]
  },
  {
   "cell_type": "code",
   "execution_count": 17,
   "id": "443cd8f2-f245-4819-8175-f4ded61f70ea",
   "metadata": {},
   "outputs": [
    {
     "name": "stdin",
     "output_type": "stream",
     "text": [
      "Enter the number: 2\n"
     ]
    },
    {
     "name": "stdout",
     "output_type": "stream",
     "text": [
      "the final answer is 4\n",
      "the final answer is 8\n"
     ]
    }
   ],
   "source": [
    "def pow(a,b=2):\n",
    "    return a**b\n",
    "x=int(input(\"Enter the number:\"))\n",
    "print(\"the final answer is\",pow(x))\n",
    "print(\"the final answer is\",pow(x,3))"
   ]
  },
  {
   "cell_type": "code",
   "execution_count": 19,
   "id": "ac2e3afc-21d1-4b2e-9e47-1eeda3c481e7",
   "metadata": {},
   "outputs": [
    {
     "name": "stdin",
     "output_type": "stream",
     "text": [
      " 5\n",
      " 5\n"
     ]
    },
    {
     "name": "stdout",
     "output_type": "stream",
     "text": [
      "(10, 0, 25)\n"
     ]
    }
   ],
   "source": [
    "def add(x,y):\n",
    "    return x+y,x-y,x*y\n",
    "a=int(input())\n",
    "b=int(input())\n",
    "print(add(a,b))"
   ]
  },
  {
   "cell_type": "code",
   "execution_count": 23,
   "id": "6991d59c-6e7b-4481-a1ff-4c8e1bdd4c95",
   "metadata": {},
   "outputs": [
    {
     "name": "stdin",
     "output_type": "stream",
     "text": [
      " 5\n",
      " 10\n"
     ]
    },
    {
     "name": "stdout",
     "output_type": "stream",
     "text": [
      "add=15, sub=-5,mul=50\n"
     ]
    }
   ],
   "source": [
    "def add(x,y):\n",
    "    return f\"add={x+y}, sub={x-y},mul={x*y}\"\n",
    "a=int(input())\n",
    "b=int(input())\n",
    "print(add(a,b))"
   ]
  },
  {
   "cell_type": "code",
   "execution_count": 33,
   "id": "dd246150-27c8-490b-bd83-67a192f85da2",
   "metadata": {},
   "outputs": [
    {
     "name": "stdin",
     "output_type": "stream",
     "text": [
      " 2\n"
     ]
    },
    {
     "name": "stdout",
     "output_type": "stream",
     "text": [
      "4\n"
     ]
    }
   ],
   "source": [
    "a=int(input())\n",
    "s=lambda a:a*a\n",
    "print(s(a))"
   ]
  },
  {
   "cell_type": "code",
   "execution_count": 35,
   "id": "b67cfa59-8d42-4064-af76-5855c4a85864",
   "metadata": {},
   "outputs": [
    {
     "name": "stdout",
     "output_type": "stream",
     "text": [
      "HI JABBAR\n",
      "Hello JABBAR\n"
     ]
    }
   ],
   "source": [
    "def hi():\n",
    "    print(\"HI JABBAR\")\n",
    "    def hello():\n",
    "        print(\"Hello JABBAR\")\n",
    "    hello()\n",
    "hi()"
   ]
  },
  {
   "cell_type": "code",
   "execution_count": 37,
   "id": "b05a4ac4-df61-411e-abc5-5c9093f4ab78",
   "metadata": {},
   "outputs": [
    {
     "name": "stdin",
     "output_type": "stream",
     "text": [
      " 2\n",
      " 2\n"
     ]
    },
    {
     "name": "stdout",
     "output_type": "stream",
     "text": [
      "4\n",
      "0\n"
     ]
    }
   ],
   "source": [
    "def oper(a,b):\n",
    "    def add(a,b):\n",
    "        return a+b\n",
    "    def sub(a,b):\n",
    "        return a-b\n",
    "    print(add(a,b))\n",
    "    print(sub(a,b))\n",
    "x=int(input())\n",
    "y=int(input())\n",
    "oper(x,y)"
   ]
  },
  {
   "cell_type": "code",
   "execution_count": 55,
   "id": "6f171182-4c40-4d7a-a660-2d067653644b",
   "metadata": {},
   "outputs": [
    {
     "name": "stdout",
     "output_type": "stream",
     "text": [
      "120\n"
     ]
    }
   ],
   "source": [
    "a=5\n",
    "b=0\n",
    "fact=1\n",
    "for i in range(1,a+1):\n",
    "    fact=fact*i\n",
    "print(fact)"
   ]
  },
  {
   "cell_type": "code",
   "execution_count": 57,
   "id": "49581d41-fdbd-4b72-9019-a49a82c80084",
   "metadata": {},
   "outputs": [
    {
     "name": "stdout",
     "output_type": "stream",
     "text": [
      "120\n"
     ]
    }
   ],
   "source": [
    "a=5\n",
    "b=3\n",
    "fact=1\n",
    "for i in range(1,a+1):\n",
    "    fact=fact*i\n",
    "print(fact)\n"
   ]
  },
  {
   "cell_type": "code",
   "execution_count": 91,
   "id": "603ebbd0-1e09-4a20-a66d-ddd50bfe92b4",
   "metadata": {},
   "outputs": [
    {
     "name": "stdout",
     "output_type": "stream",
     "text": [
      "120\n",
      "125\n"
     ]
    }
   ],
   "source": [
    "def sol(a,b):\n",
    "    def fact(a):\n",
    "        fac=1\n",
    "        for i in range(1,a+1):\n",
    "            fac=fac*i\n",
    "        return (fac)\n",
    "    def pow(a,b):\n",
    "        return a**b\n",
    "    print(fact(a))\n",
    "    print(pow(a,b))\n",
    "\n",
    "x=5\n",
    "y=3\n",
    "sol(x,y)"
   ]
  },
  {
   "cell_type": "code",
   "execution_count": 107,
   "id": "ab8c9ad9-7614-43eb-88ed-7e0ac33dd13c",
   "metadata": {},
   "outputs": [
    {
     "name": "stdin",
     "output_type": "stream",
     "text": [
      " 4\n"
     ]
    },
    {
     "name": "stdout",
     "output_type": "stream",
     "text": [
      "the factorial of  4 is 24\n",
      "the superfactorial of  4 is 288\n"
     ]
    }
   ],
   "source": [
    "def fact(n):\n",
    "    if n==0 or n==1:\n",
    "        return 1\n",
    "    else:\n",
    "        return n*fact(n-1)\n",
    "def sfact(n):\n",
    "    if n==1:\n",
    "        return 1\n",
    "    return fact(n)*sfact(n-1)\n",
    "a=int(input())\n",
    "print(\"the factorial of \",a,\"is\",fact(a))\n",
    "print(\"the superfactorial of \",a,\"is\",sfact(a))"
   ]
  },
  {
   "cell_type": "code",
   "execution_count": null,
   "id": "0ceb734b-8958-4fc9-83af-c3c9689d9fcb",
   "metadata": {},
   "outputs": [],
   "source": []
  }
 ],
 "metadata": {
  "kernelspec": {
   "display_name": "Python 3 (ipykernel)",
   "language": "python",
   "name": "python3"
  },
  "language_info": {
   "codemirror_mode": {
    "name": "ipython",
    "version": 3
   },
   "file_extension": ".py",
   "mimetype": "text/x-python",
   "name": "python",
   "nbconvert_exporter": "python",
   "pygments_lexer": "ipython3",
   "version": "3.12.7"
  }
 },
 "nbformat": 4,
 "nbformat_minor": 5
}

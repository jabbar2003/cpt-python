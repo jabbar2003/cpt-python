{
 "cells": [
  {
   "cell_type": "code",
   "execution_count": 1,
   "id": "2ffe903f-e0b2-42e2-86fc-6d12606d5266",
   "metadata": {},
   "outputs": [
    {
     "name": "stdin",
     "output_type": "stream",
     "text": [
      "Enter the number to be reversed:- 4981\n"
     ]
    },
    {
     "name": "stdout",
     "output_type": "stream",
     "text": [
      "the reversed number is: 1894\n"
     ]
    }
   ],
   "source": [
    "#Reverse the number using while loop by taking input from user\n",
    "a=int(input(\"Enter the number to be reversed:-\"))\n",
    "b=0\n",
    "while a!=0:\n",
    "    r=a%10\n",
    "    b=b*10+r\n",
    "    a=a//10\n",
    "print(\"the reversed number is:\",b)"
   ]
  },
  {
   "cell_type": "code",
   "execution_count": 11,
   "id": "c4664a54-1dc3-4352-ba9f-0c0ea69973a7",
   "metadata": {},
   "outputs": [
    {
     "name": "stdout",
     "output_type": "stream",
     "text": [
      "after Reversing a= appannak sa anhsirk\n"
     ]
    }
   ],
   "source": [
    "#reverse the string using while loop\n",
    "a=\"krishna as kannappa\"\n",
    "rev=\"\"\n",
    "i=len(a)+-1\n",
    "while i>=0:\n",
    "    rev=rev+a[i]\n",
    "    i=i-1\n",
    "print(\"after Reversing a=\",rev)"
   ]
  },
  {
   "cell_type": "code",
   "execution_count": null,
   "id": "94fe27a2-b0f4-49d6-aba1-3a303483712d",
   "metadata": {},
   "outputs": [],
   "source": []
  }
 ],
 "metadata": {
  "kernelspec": {
   "display_name": "Python 3 (ipykernel)",
   "language": "python",
   "name": "python3"
  },
  "language_info": {
   "codemirror_mode": {
    "name": "ipython",
    "version": 3
   },
   "file_extension": ".py",
   "mimetype": "text/x-python",
   "name": "python",
   "nbconvert_exporter": "python",
   "pygments_lexer": "ipython3",
   "version": "3.12.7"
  }
 },
 "nbformat": 4,
 "nbformat_minor": 5
}
